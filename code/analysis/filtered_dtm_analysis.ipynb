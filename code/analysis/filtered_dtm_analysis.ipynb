{
 "cells": [
  {
   "cell_type": "code",
   "execution_count": 1,
   "id": "working-commander",
   "metadata": {},
   "outputs": [],
   "source": [
    "import numpy as np\n",
    "import spacy\n",
    "import gensim\n",
    "import csv\n",
    "import pandas as pd"
   ]
  },
  {
   "cell_type": "code",
   "execution_count": 2,
   "id": "beneficial-being",
   "metadata": {},
   "outputs": [],
   "source": [
    "import json"
   ]
  },
  {
   "cell_type": "code",
   "execution_count": 3,
   "id": "paperback-video",
   "metadata": {},
   "outputs": [],
   "source": [
    "with open('timed_filtered_data.json') as json_file:\n",
    "    timed_filtered_data = json.load(json_file)"
   ]
  },
  {
   "cell_type": "code",
   "execution_count": 5,
   "id": "operating-representative",
   "metadata": {},
   "outputs": [
    {
     "data": {
      "text/plain": [
       "['amtsdi',\n",
       " 'anmerk',\n",
       " 'archivar',\n",
       " 'beid',\n",
       " 'bestand',\n",
       " 'bibliothekar',\n",
       " 'bureau',\n",
       " 'definitiv',\n",
       " 'dien',\n",
       " 'diensteskategori',\n",
       " 'einbezog',\n",
       " 'frueh',\n",
       " 'gefallsuebergeh',\n",
       " 'gefangenaufseh',\n",
       " 'gehalt',\n",
       " 'grb',\n",
       " 'hausinspektor',\n",
       " 'leit',\n",
       " 'mittelschul',\n",
       " 'nat',\n",
       " 'natur',\n",
       " 'porti',\n",
       " 'prov',\n",
       " 'provisor',\n",
       " 'rathaus',\n",
       " 'rathausporti',\n",
       " 'rathauswaecht',\n",
       " 'ratsdi',\n",
       " 'regulier',\n",
       " 'statist',\n",
       " 'status',\n",
       " 'stell',\n",
       " 'umfasst',\n",
       " 'wohnung']"
      ]
     },
     "execution_count": 5,
     "metadata": {},
     "output_type": "execute_result"
    }
   ],
   "source": [
    "timed_filtered_data['0'][0]"
   ]
  },
  {
   "cell_type": "code",
   "execution_count": 11,
   "id": "unexpected-calgary",
   "metadata": {},
   "outputs": [],
   "source": [
    "final_docs = []\n",
    "times = []"
   ]
  },
  {
   "cell_type": "code",
   "execution_count": 12,
   "id": "sweet-transparency",
   "metadata": {},
   "outputs": [],
   "source": [
    "for period in timed_filtered_data:\n",
    "    times.append(len(timed_filtered_data[period]))\n",
    "    for doc in timed_filtered_data[period]:\n",
    "        final_docs.append(doc)"
   ]
  },
  {
   "cell_type": "code",
   "execution_count": 13,
   "id": "visible-logistics",
   "metadata": {},
   "outputs": [
    {
     "data": {
      "text/plain": [
       "['amtsdi',\n",
       " 'anmerk',\n",
       " 'archivar',\n",
       " 'beid',\n",
       " 'bestand',\n",
       " 'bibliothekar',\n",
       " 'bureau',\n",
       " 'definitiv',\n",
       " 'dien',\n",
       " 'diensteskategori',\n",
       " 'einbezog',\n",
       " 'frueh',\n",
       " 'gefallsuebergeh',\n",
       " 'gefangenaufseh',\n",
       " 'gehalt',\n",
       " 'grb',\n",
       " 'hausinspektor',\n",
       " 'leit',\n",
       " 'mittelschul',\n",
       " 'nat',\n",
       " 'natur',\n",
       " 'porti',\n",
       " 'prov',\n",
       " 'provisor',\n",
       " 'rathaus',\n",
       " 'rathausporti',\n",
       " 'rathauswaecht',\n",
       " 'ratsdi',\n",
       " 'regulier',\n",
       " 'statist',\n",
       " 'status',\n",
       " 'stell',\n",
       " 'umfasst',\n",
       " 'wohnung']"
      ]
     },
     "execution_count": 13,
     "metadata": {},
     "output_type": "execute_result"
    }
   ],
   "source": [
    "final_docs[0]"
   ]
  },
  {
   "cell_type": "code",
   "execution_count": 14,
   "id": "revolutionary-design",
   "metadata": {},
   "outputs": [],
   "source": [
    "from gensim.models import LdaSeqModel\n",
    "from gensim.corpora import Dictionary"
   ]
  },
  {
   "cell_type": "code",
   "execution_count": 15,
   "id": "mobile-sight",
   "metadata": {},
   "outputs": [],
   "source": [
    "dictionary = Dictionary(final_docs)\n",
    "corpus = [dictionary.doc2bow(text) for text in final_docs]"
   ]
  },
  {
   "cell_type": "code",
   "execution_count": 27,
   "id": "strong-smell",
   "metadata": {},
   "outputs": [
    {
     "name": "stderr",
     "output_type": "stream",
     "text": [
      "/Users/bhargavvader/open_source/venv/lib/python3.9/site-packages/gensim/models/ldaseqmodel.py:297: RuntimeWarning: divide by zero encountered in double_scalars\n",
      "  convergence = np.fabs((bound - old_bound) / old_bound)\n"
     ]
    }
   ],
   "source": [
    "ldaseq_fast = LdaSeqModel(corpus=corpus, id2word=dictionary, time_slice=times, num_topics=32, chunksize=1, chain_variance=0.1)"
   ]
  },
  {
   "cell_type": "code",
   "execution_count": 28,
   "id": "dressed-marking",
   "metadata": {},
   "outputs": [],
   "source": [
    "ldaseq_fast.save(\"ldaseq_fast_filtered_0.1\")"
   ]
  },
  {
   "cell_type": "code",
   "execution_count": 29,
   "id": "given-moses",
   "metadata": {},
   "outputs": [
    {
     "name": "stderr",
     "output_type": "stream",
     "text": [
      "/Users/bhargavvader/open_source/venv/lib/python3.9/site-packages/gensim/models/ldaseqmodel.py:297: RuntimeWarning: divide by zero encountered in double_scalars\n",
      "  convergence = np.fabs((bound - old_bound) / old_bound)\n"
     ]
    }
   ],
   "source": [
    "ldaseq_fast_25 = LdaSeqModel(corpus=corpus, id2word=dictionary, time_slice=times, num_topics=32, chunksize=1, chain_variance=0.25)"
   ]
  },
  {
   "cell_type": "code",
   "execution_count": 30,
   "id": "complimentary-perry",
   "metadata": {},
   "outputs": [],
   "source": [
    "ldaseq_fast_25.save(\"ldaseq_fast_filtered_2.5\")"
   ]
  },
  {
   "cell_type": "markdown",
   "id": "academic-addition",
   "metadata": {},
   "source": [
    "## Reverse"
   ]
  },
  {
   "cell_type": "code",
   "execution_count": 31,
   "id": "changing-clear",
   "metadata": {},
   "outputs": [],
   "source": [
    "rev_corpus = list(reversed(corpus))"
   ]
  },
  {
   "cell_type": "code",
   "execution_count": 32,
   "id": "sublime-protein",
   "metadata": {},
   "outputs": [],
   "source": [
    "rev_times = list(reversed(times))"
   ]
  },
  {
   "cell_type": "code",
   "execution_count": 34,
   "id": "beautiful-dynamics",
   "metadata": {},
   "outputs": [],
   "source": [
    "ldaseq_rev = LdaSeqModel(corpus=rev_corpus, id2word=dictionary, time_slice=rev_times, num_topics=32, chunksize=1, chain_variance=0.1)"
   ]
  },
  {
   "cell_type": "code",
   "execution_count": null,
   "id": "polar-interest",
   "metadata": {},
   "outputs": [],
   "source": [
    "ldaseq_rev.save(\"ldaseq_rev_filtered_0.1\")"
   ]
  },
  {
   "cell_type": "code",
   "execution_count": null,
   "id": "compressed-victory",
   "metadata": {},
   "outputs": [],
   "source": [
    "ldaseq_rev_25 = LdaSeqModel(corpus=rev_corpus, id2word=dictionary, time_slice=rev_times, num_topics=32, chunksize=1, chain_variance=0.25)"
   ]
  },
  {
   "cell_type": "code",
   "execution_count": null,
   "id": "seventh-technician",
   "metadata": {},
   "outputs": [],
   "source": [
    "ldaseq_rev_25.save(\"ldaseq_rev_filtered_0.25\")"
   ]
  }
 ],
 "metadata": {
  "kernelspec": {
   "display_name": "Python 3",
   "language": "python",
   "name": "python3"
  },
  "language_info": {
   "codemirror_mode": {
    "name": "ipython",
    "version": 3
   },
   "file_extension": ".py",
   "mimetype": "text/x-python",
   "name": "python",
   "nbconvert_exporter": "python",
   "pygments_lexer": "ipython3",
   "version": "3.9.10"
  }
 },
 "nbformat": 4,
 "nbformat_minor": 5
}
