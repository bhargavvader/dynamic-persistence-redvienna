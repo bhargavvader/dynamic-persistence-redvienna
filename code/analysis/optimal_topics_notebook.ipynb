{
 "cells": [
  {
   "cell_type": "markdown",
   "id": "2c0bf5bc",
   "metadata": {},
   "source": [
    "## Optimal Topics Discovery"
   ]
  },
  {
   "cell_type": "code",
   "execution_count": 1,
   "id": "717172a2",
   "metadata": {},
   "outputs": [],
   "source": [
    "import numpy as np\n",
    "import spacy\n",
    "import gensim\n",
    "import csv\n",
    "import pandas as pd"
   ]
  },
  {
   "cell_type": "code",
   "execution_count": 2,
   "id": "64ca2ecc",
   "metadata": {},
   "outputs": [],
   "source": [
    "docs = {}"
   ]
  },
  {
   "cell_type": "code",
   "execution_count": 3,
   "id": "5f17a7dc",
   "metadata": {},
   "outputs": [],
   "source": [
    "with open('yearbooks_tibble_all.csv', newline='') as csvfile:\n",
    "    reader = csv.reader(csvfile)\n",
    "    for row in reader:\n",
    "        year, page, term, count, decade, total = row\n",
    "        if (year, page) not in docs:\n",
    "            docs[(year, page)] = []\n",
    "        if (year, page) in docs:\n",
    "            docs[(year, page)].append(term) "
   ]
  },
  {
   "cell_type": "code",
   "execution_count": 4,
   "id": "62e85e81",
   "metadata": {},
   "outputs": [],
   "source": [
    "del docs[('year', 'page')]"
   ]
  },
  {
   "cell_type": "code",
   "execution_count": 5,
   "id": "1c68068b",
   "metadata": {},
   "outputs": [
    {
     "data": {
      "text/plain": [
       "('1870', '120')"
      ]
     },
     "execution_count": 5,
     "metadata": {},
     "output_type": "execute_result"
    }
   ],
   "source": [
    "list(docs.keys())[22]"
   ]
  },
  {
   "cell_type": "code",
   "execution_count": 36,
   "id": "81413af1",
   "metadata": {},
   "outputs": [],
   "source": [
    "# 14 time periods\n",
    "timed_docs = [[], [], [], [], [], [], [], [], [], [], [], [], [], [], [], [], []]"
   ]
  },
  {
   "cell_type": "code",
   "execution_count": 37,
   "id": "5a3704d9",
   "metadata": {},
   "outputs": [],
   "source": [
    "years_info = []"
   ]
  },
  {
   "cell_type": "code",
   "execution_count": 38,
   "id": "d9e84494",
   "metadata": {},
   "outputs": [],
   "source": [
    "for doc in docs:\n",
    "    year, page = doc\n",
    "    if int(year) >= 1870 and int(year) <=1880:\n",
    "        timed_docs[0].append(docs[doc])\n",
    "        if (1870, 1880) not in years_info:\n",
    "            years_info.append((1870, 1880))\n",
    "    if int(year) >= 1881 and int(year) <=1895:\n",
    "        timed_docs[1].append(docs[doc])\n",
    "        if (1881, 1895) not in years_info:\n",
    "            years_info.append((1881, 1895))\n",
    "    if int(year) >= 1896 and int(year) <=1902:\n",
    "        timed_docs[2].append(docs[doc])\n",
    "        if (1896, 1902) not in years_info:\n",
    "            years_info.append((1896, 1902))        \n",
    "    if int(year) >= 1903 and int(year) <=1908:\n",
    "        timed_docs[3].append(docs[doc])\n",
    "        if (1903, 1908) not in years_info:\n",
    "            years_info.append((1903, 1908))\n",
    "    if int(year) >= 1909 and int(year) <=1913:\n",
    "        timed_docs[4].append(docs[doc])\n",
    "        if (1909, 1913) not in years_info:\n",
    "            years_info.append((1909, 1913))\n",
    "            years_info.append((1914, 1918))\n",
    "    if int(year) >= 1914 and int(year) <=1918:\n",
    "        timed_docs[5].append(docs[doc])\n",
    "        if (1914, 1918) not in years_info:    \n",
    "            years_info.append((1914, 1918))        \n",
    "    if int(year) >= 1919 and int(year) <=1933:\n",
    "        timed_docs[6].append(docs[doc])\n",
    "        if (1919, 1933) not in years_info:    \n",
    "            years_info.append((1919, 1933))\n",
    "    if int(year) >= 1934 and int(year) <=1938:\n",
    "        timed_docs[7].append(docs[doc])\n",
    "        if (1934, 1938) not in years_info:    \n",
    "            years_info.append((1934, 1938))\n",
    "    if int(year) >= 1939 and int(year) <=1945:\n",
    "        timed_docs[8].append(docs[doc])\n",
    "        if (1939, 1945) not in years_info:    \n",
    "            years_info.append((1939, 1945))\n",
    "    if int(year) >= 1946 and int(year) <=1954:\n",
    "        timed_docs[9].append(docs[doc])\n",
    "        if (1946, 1954) not in years_info:   \n",
    "            years_info.append((1946, 1954))\n",
    "    if int(year) >= 1955 and int(year) <=1959:\n",
    "        timed_docs[10].append(docs[doc])\n",
    "        if (1955, 1959) not in years_info:   \n",
    "            years_info.append((1955, 1959))\n",
    "    if int(year) >= 1960 and int(year) <=1964:\n",
    "        timed_docs[11].append(docs[doc])\n",
    "        if (1960, 1964) not in years_info:   \n",
    "            years_info.append((1960, 1964))\n",
    "    if int(year) >= 1965 and int(year) <=1968:\n",
    "        timed_docs[12].append(docs[doc])\n",
    "        if (1965, 1968) not in years_info:   \n",
    "            years_info.append((1965, 1968))\n",
    "    if int(year) >= 1969 and int(year) <=1979:\n",
    "        timed_docs[13].append(docs[doc])\n",
    "        if (1969, 1979) not in years_info:   \n",
    "            years_info.append((1969, 1979))\n",
    "    if int(year) >= 1980 and int(year) <=1989:\n",
    "        timed_docs[14].append(docs[doc])\n",
    "        if (1980, 1989) not in years_info:   \n",
    "            years_info.append((1980, 1989))\n",
    "    if int(year) >= 1990 and int(year) <=1996:\n",
    "        timed_docs[15].append(docs[doc])\n",
    "        if (1990, 1996) not in years_info:  \n",
    "            years_info.append((1990, 1996))\n",
    "    if int(year) >= 1997 and int(year) <=2009:\n",
    "        timed_docs[16].append(docs[doc])\n",
    "        if (1997, 2009) not in years_info:  \n",
    "            years_info.append((1997, 2009))\n"
   ]
  },
  {
   "cell_type": "code",
   "execution_count": 39,
   "id": "21b5b618",
   "metadata": {},
   "outputs": [
    {
     "data": {
      "text/plain": [
       "17"
      ]
     },
     "execution_count": 39,
     "metadata": {},
     "output_type": "execute_result"
    }
   ],
   "source": [
    "len(years_info)"
   ]
  },
  {
   "cell_type": "code",
   "execution_count": 40,
   "id": "ab2cbff0",
   "metadata": {},
   "outputs": [
    {
     "name": "stdout",
     "output_type": "stream",
     "text": [
      "(1870, 1880) 3361\n",
      "(1881, 1895) 3694\n",
      "(1896, 1902) 3099\n",
      "(1903, 1908) 3209\n",
      "(1909, 1913) 2756\n",
      "(1914, 1918) 0\n",
      "(1919, 1933) 3636\n",
      "(1934, 1938) 249\n",
      "(1939, 1945) 896\n",
      "(1946, 1954) 3095\n",
      "(1955, 1959) 3105\n",
      "(1960, 1964) 3135\n",
      "(1965, 1968) 2705\n",
      "(1969, 1979) 3555\n",
      "(1980, 1989) 3376\n",
      "(1990, 1996) 3004\n",
      "(1997, 2009) 3347\n"
     ]
    }
   ],
   "source": [
    "for i, time in enumerate(timed_docs):\n",
    "    print(years_info[i],len(time))"
   ]
  },
  {
   "cell_type": "code",
   "execution_count": 8,
   "id": "d38aeac9",
   "metadata": {},
   "outputs": [],
   "source": [
    "final_docs = []\n",
    "times = []"
   ]
  },
  {
   "cell_type": "code",
   "execution_count": 9,
   "id": "468fd603",
   "metadata": {},
   "outputs": [],
   "source": [
    "for period in timed_docs:\n",
    "    times.append(len(period))\n",
    "    for doc in period:\n",
    "        final_docs.append(doc)"
   ]
  },
  {
   "cell_type": "code",
   "execution_count": 10,
   "id": "698d967f",
   "metadata": {},
   "outputs": [],
   "source": [
    "from gensim.models import LdaSeqModel\n",
    "from gensim.corpora import Dictionary"
   ]
  },
  {
   "cell_type": "code",
   "execution_count": 11,
   "id": "1f531f25",
   "metadata": {},
   "outputs": [],
   "source": [
    "from gensim.models.coherencemodel import CoherenceModel"
   ]
  },
  {
   "cell_type": "code",
   "execution_count": 12,
   "id": "f1da7159",
   "metadata": {},
   "outputs": [],
   "source": [
    "dictionary = Dictionary(final_docs)\n",
    "corpus = [dictionary.doc2bow(text) for text in final_docs]"
   ]
  },
  {
   "cell_type": "markdown",
   "id": "4fdb303d",
   "metadata": {},
   "source": [
    "## Training new models"
   ]
  },
  {
   "cell_type": "code",
   "execution_count": 13,
   "id": "264170ce",
   "metadata": {},
   "outputs": [],
   "source": [
    "from gensim.models import LdaModel\n"
   ]
  },
  {
   "cell_type": "code",
   "execution_count": 14,
   "id": "b002d3f8",
   "metadata": {},
   "outputs": [],
   "source": [
    "lda_8 = LdaModel(corpus=corpus, id2word=dictionary, num_topics=8)"
   ]
  },
  {
   "cell_type": "code",
   "execution_count": 15,
   "id": "bb338d2d",
   "metadata": {},
   "outputs": [],
   "source": [
    "lda_16 = LdaModel(corpus=corpus, id2word=dictionary, num_topics=16)"
   ]
  },
  {
   "cell_type": "code",
   "execution_count": 16,
   "id": "af36bf17",
   "metadata": {},
   "outputs": [],
   "source": [
    "lda_24 = LdaModel(corpus=corpus, id2word=dictionary, num_topics=24)"
   ]
  },
  {
   "cell_type": "code",
   "execution_count": 41,
   "id": "35e67467",
   "metadata": {},
   "outputs": [],
   "source": [
    "lda_32 = LdaModel(corpus=corpus, id2word=dictionary, num_topics=32)"
   ]
  },
  {
   "cell_type": "code",
   "execution_count": 45,
   "id": "9925aec3",
   "metadata": {},
   "outputs": [],
   "source": [
    "lda_40 = LdaModel(corpus=corpus, id2word=dictionary, num_topics=40)"
   ]
  },
  {
   "cell_type": "code",
   "execution_count": 46,
   "id": "fdb410ae",
   "metadata": {},
   "outputs": [],
   "source": [
    "lda_48 = LdaModel(corpus=corpus, id2word=dictionary, num_topics=48)"
   ]
  },
  {
   "cell_type": "code",
   "execution_count": 20,
   "id": "d4ed9ba2",
   "metadata": {},
   "outputs": [],
   "source": [
    "cm_16 = CoherenceModel(model=lda_16, corpus=corpus, coherence='u_mass')"
   ]
  },
  {
   "cell_type": "code",
   "execution_count": 21,
   "id": "a2137c2a",
   "metadata": {},
   "outputs": [
    {
     "data": {
      "text/plain": [
       "-4.541123764275744"
      ]
     },
     "execution_count": 21,
     "metadata": {},
     "output_type": "execute_result"
    }
   ],
   "source": [
    "cm_16.get_coherence()"
   ]
  },
  {
   "cell_type": "code",
   "execution_count": 22,
   "id": "f02d34b8",
   "metadata": {},
   "outputs": [],
   "source": [
    "cm_24 = CoherenceModel(model=lda_24, corpus=corpus, coherence='u_mass')"
   ]
  },
  {
   "cell_type": "code",
   "execution_count": 23,
   "id": "bef62867",
   "metadata": {},
   "outputs": [
    {
     "data": {
      "text/plain": [
       "-4.54263264616264"
      ]
     },
     "execution_count": 23,
     "metadata": {},
     "output_type": "execute_result"
    }
   ],
   "source": [
    "cm_24.get_coherence()"
   ]
  },
  {
   "cell_type": "code",
   "execution_count": 43,
   "id": "b4878faf",
   "metadata": {},
   "outputs": [],
   "source": [
    "cm_32 = CoherenceModel(model=lda_32, corpus=corpus, coherence='u_mass')"
   ]
  },
  {
   "cell_type": "code",
   "execution_count": 44,
   "id": "87e60180",
   "metadata": {},
   "outputs": [
    {
     "data": {
      "text/plain": [
       "-5.097939659895481"
      ]
     },
     "execution_count": 44,
     "metadata": {},
     "output_type": "execute_result"
    }
   ],
   "source": [
    "cm_32.get_coherence()"
   ]
  },
  {
   "cell_type": "code",
   "execution_count": 26,
   "id": "9509a8c9",
   "metadata": {},
   "outputs": [],
   "source": [
    "cm_8 = CoherenceModel(model=lda_8, corpus=corpus, coherence='u_mass')"
   ]
  },
  {
   "cell_type": "code",
   "execution_count": 27,
   "id": "26a1ca29",
   "metadata": {},
   "outputs": [
    {
     "data": {
      "text/plain": [
       "-2.0472870557417417"
      ]
     },
     "execution_count": 27,
     "metadata": {},
     "output_type": "execute_result"
    }
   ],
   "source": [
    "cm_8.get_coherence()"
   ]
  },
  {
   "cell_type": "code",
   "execution_count": 47,
   "id": "7453829e",
   "metadata": {},
   "outputs": [],
   "source": [
    "cm_40 = CoherenceModel(model=lda_40, corpus=corpus, coherence='u_mass')"
   ]
  },
  {
   "cell_type": "code",
   "execution_count": 48,
   "id": "c056b77c",
   "metadata": {},
   "outputs": [
    {
     "data": {
      "text/plain": [
       "-5.555113284846483"
      ]
     },
     "execution_count": 48,
     "metadata": {},
     "output_type": "execute_result"
    }
   ],
   "source": [
    "cm_40.get_coherence()"
   ]
  },
  {
   "cell_type": "code",
   "execution_count": 49,
   "id": "de02dd28",
   "metadata": {},
   "outputs": [],
   "source": [
    "cm_48 = CoherenceModel(model=lda_48, corpus=corpus, coherence='u_mass')"
   ]
  },
  {
   "cell_type": "code",
   "execution_count": 50,
   "id": "c115d2b6",
   "metadata": {},
   "outputs": [
    {
     "data": {
      "text/plain": [
       "-4.5897834806504525"
      ]
     },
     "execution_count": 50,
     "metadata": {},
     "output_type": "execute_result"
    }
   ],
   "source": [
    "cm_48.get_coherence()"
   ]
  },
  {
   "cell_type": "code",
   "execution_count": 37,
   "id": "7329906b",
   "metadata": {},
   "outputs": [],
   "source": [
    "topics = [8, 16, 24, 32, 40, 48]"
   ]
  },
  {
   "cell_type": "code",
   "execution_count": 38,
   "id": "e020946f",
   "metadata": {},
   "outputs": [],
   "source": [
    "scores = [cm_8.get_coherence(), cm_16.get_coherence(), cm_24.get_coherence(), cm_32.get_coherence(), cm_40.get_coherence(), cm_48.get_coherence()]"
   ]
  },
  {
   "cell_type": "code",
   "execution_count": 39,
   "id": "d18c73e5",
   "metadata": {},
   "outputs": [],
   "source": [
    "import seaborn as sns\n"
   ]
  },
  {
   "cell_type": "code",
   "execution_count": 40,
   "id": "74328ec8",
   "metadata": {},
   "outputs": [
    {
     "data": {
      "text/plain": [
       "<Axes: >"
      ]
     },
     "execution_count": 40,
     "metadata": {},
     "output_type": "execute_result"
    },
    {
     "data": {
      "image/png": "[encoded data removed]",
      "text/plain": [
       "<Figure size 640x480 with 1 Axes>"
      ]
     },
     "metadata": {},
     "output_type": "display_data"
    }
   ],
   "source": [
    "sns.lineplot(x=topics, y=scores)"
   ]
  },
  {
   "cell_type": "code",
   "execution_count": null,
   "id": "a0093b83",
   "metadata": {},
   "outputs": [],
   "source": []
  },
  {
   "cell_type": "markdown",
   "id": "401c27ff",
   "metadata": {},
   "source": [
    "### Coherence of already trained models"
   ]
  },
  {
   "cell_type": "code",
   "execution_count": 32,
   "id": "7c30677f",
   "metadata": {},
   "outputs": [],
   "source": [
    "ldaseq_fast = LdaSeqModel.load(\"new_models/ldaseq_32_topics_14_periods_reverse_cv02\")"
   ]
  },
  {
   "cell_type": "code",
   "execution_count": 33,
   "id": "ecdc6496",
   "metadata": {},
   "outputs": [],
   "source": [
    "topics_dtm = ldaseq_fast.dtm_coherence(time=2)"
   ]
  },
  {
   "cell_type": "code",
   "execution_count": 34,
   "id": "8db9520a",
   "metadata": {},
   "outputs": [],
   "source": [
    "cm_DTM = CoherenceModel(topics=topics_dtm, corpus=corpus, dictionary=dictionary, coherence='u_mass')"
   ]
  },
  {
   "cell_type": "code",
   "execution_count": 35,
   "id": "a173c3a2",
   "metadata": {},
   "outputs": [
    {
     "name": "stdout",
     "output_type": "stream",
     "text": [
      "DTM Python coherence is -2.263871357030661\n"
     ]
    }
   ],
   "source": [
    "print (\"DTM Python coherence is\", cm_DTM.get_coherence())"
   ]
  }
 ],
 "metadata": {
  "kernelspec": {
   "display_name": "Python 3 (ipykernel)",
   "language": "python",
   "name": "python3"
  },
  "language_info": {
   "codemirror_mode": {
    "name": "ipython",
    "version": 3
   },
   "file_extension": ".py",
   "mimetype": "text/x-python",
   "name": "python",
   "nbconvert_exporter": "python",
   "pygments_lexer": "ipython3",
   "version": "3.9.6"
  }
 },
 "nbformat": 4,
 "nbformat_minor": 5
}
