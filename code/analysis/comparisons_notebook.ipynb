{
 "cells": [
  {
   "cell_type": "markdown",
   "id": "d6191a4a",
   "metadata": {},
   "source": [
    "## RR1 Dynamic Persistance Comparisons\n",
    "\n",
    "### Load Models"
   ]
  },
  {
   "cell_type": "code",
   "execution_count": 1,
   "id": "03327739",
   "metadata": {},
   "outputs": [],
   "source": [
    "from gensim.matutils import kullback_leibler\n",
    "from gensim.matutils import jensen_shannon"
   ]
  },
  {
   "cell_type": "code",
   "execution_count": 2,
   "id": "dd60eb18",
   "metadata": {},
   "outputs": [],
   "source": [
    "import numpy as np\n",
    "import spacy\n",
    "import gensim\n",
    "import csv\n",
    "import pandas as pd"
   ]
  },
  {
   "cell_type": "code",
   "execution_count": 3,
   "id": "1a04e1fb",
   "metadata": {},
   "outputs": [],
   "source": [
    "from gensim.models import LdaSeqModel\n",
    "from gensim.corpora import Dictionary"
   ]
  },
  {
   "cell_type": "code",
   "execution_count": 4,
   "id": "8e57ed70",
   "metadata": {},
   "outputs": [],
   "source": [
    "import matplotlib.pyplot as plt"
   ]
  },
  {
   "cell_type": "code",
   "execution_count": 25,
   "id": "5cb95f17",
   "metadata": {},
   "outputs": [],
   "source": [
    "ldaseq_fast = LdaSeqModel.load(\"ldaseq_rev_fast_32_14periods_CV001\")"
   ]
  },
  {
   "cell_type": "markdown",
   "id": "2ed54114",
   "metadata": {},
   "source": [
    "### Create Topic List\n",
    "\n",
    "\n",
    "Format of this file?"
   ]
  },
  {
   "cell_type": "code",
   "execution_count": 9,
   "id": "fdb1f708",
   "metadata": {},
   "outputs": [],
   "source": [
    "# change here to include all time periods in a single file\n",
    "def topics_to_csv(model, name_file, times=16):\n",
    "    with open(name_file, 'w', newline='') as csvfile:\n",
    "        spamwriter = csv.writer(csvfile)\n",
    "        for time in range(0, times):\n",
    "            spamwriter.writerow([\"Topic Number for time period \" + str(time) , \"Word, Probability\"])\n",
    "            topics = model.print_topics(time=time)\n",
    "            for num, topic in enumerate(topics):\n",
    "                topic.insert(0, num)\n",
    "                spamwriter.writerow(topic)"
   ]
  },
  {
   "cell_type": "code",
   "execution_count": 10,
   "id": "3e613181",
   "metadata": {},
   "outputs": [],
   "source": [
    "topics_to_csv(ldaseq_fast, \"new_models/results/ldaseq_rev_fast_32_16periods_CV01_topics.csv\")"
   ]
  },
  {
   "cell_type": "markdown",
   "id": "bf65712e",
   "metadata": {},
   "source": [
    "### Top Words from Model"
   ]
  },
  {
   "cell_type": "code",
   "execution_count": 26,
   "id": "98bdb239",
   "metadata": {},
   "outputs": [],
   "source": [
    "topics = ldaseq_fast.print_topics(time=0)"
   ]
  },
  {
   "cell_type": "code",
   "execution_count": 27,
   "id": "11ba47f9",
   "metadata": {},
   "outputs": [
    {
     "data": {
      "text/plain": [
       "[('wohn', 0.01007818831635055),\n",
       " ('wohnung', 0.009844739296711948),\n",
       " ('miet', 0.008109225241486714),\n",
       " ('foerder', 0.007277510955062678),\n",
       " ('gefoerdert', 0.007011413254205991),\n",
       " ('antraeg', 0.006634222622812441),\n",
       " ('wohnbau', 0.006261152361182272),\n",
       " ('hoeh', 0.005985274616481295),\n",
       " ('wohnbaufoerder', 0.0057554996874703435),\n",
       " ('rahm', 0.005722612162730612),\n",
       " ('stadterneuer', 0.0052249960010912755),\n",
       " ('betrag', 0.004356961627337897),\n",
       " ('stadt', 0.004165595307151521),\n",
       " ('darleh', 0.004135305954412866),\n",
       " ('landesregier', 0.004102940758976827),\n",
       " ('rund', 0.004086241102935389),\n",
       " ('wwfsg', 0.0040046062504644426),\n",
       " ('wohnhaussanierungsgesetz', 0.0037406404783550304),\n",
       " ('wohnhaus', 0.0037332566881085843),\n",
       " ('vergeb', 0.003727889451663601)]"
      ]
     },
     "execution_count": 27,
     "metadata": {},
     "output_type": "execute_result"
    }
   ],
   "source": [
    "topics[21]"
   ]
  },
  {
   "cell_type": "code",
   "execution_count": 29,
   "id": "d82f0006",
   "metadata": {},
   "outputs": [],
   "source": [
    "def top_words_topic(model, time, topic_num): \n",
    "    topics = model.print_topics(time=time)\n",
    "    top_words = []\n",
    "    for word, prob in topics[topic_num]:\n",
    "        top_words.append(word)\n",
    "    return top_words"
   ]
  },
  {
   "cell_type": "code",
   "execution_count": 36,
   "id": "7a66e1ea",
   "metadata": {},
   "outputs": [],
   "source": [
    "top_words_housing = []"
   ]
  },
  {
   "cell_type": "code",
   "execution_count": 37,
   "id": "9c8b26b7",
   "metadata": {},
   "outputs": [],
   "source": [
    "for i in range(0, 14):\n",
    "    top_words_housing.append(top_words_topic(ldaseq_fast, i, 21))"
   ]
  },
  {
   "cell_type": "code",
   "execution_count": 38,
   "id": "ffa62699",
   "metadata": {},
   "outputs": [
    {
     "data": {
      "text/plain": [
       "[['wohn',\n",
       "  'wohnung',\n",
       "  'miet',\n",
       "  'foerder',\n",
       "  'gefoerdert',\n",
       "  'antraeg',\n",
       "  'wohnbau',\n",
       "  'hoeh',\n",
       "  'wohnbaufoerder',\n",
       "  'rahm',\n",
       "  'stadterneuer',\n",
       "  'betrag',\n",
       "  'stadt',\n",
       "  'darleh',\n",
       "  'landesregier',\n",
       "  'rund',\n",
       "  'wwfsg',\n",
       "  'wohnhaussanierungsgesetz',\n",
       "  'wohnhaus',\n",
       "  'vergeb'],\n",
       " ['wohnung',\n",
       "  'wohnbaufoerder',\n",
       "  'foerder',\n",
       "  'antraeg',\n",
       "  'miet',\n",
       "  'hoeh',\n",
       "  'rahm',\n",
       "  'darleh',\n",
       "  'wohnhaussanierungsgesetz',\n",
       "  'gefoerdert',\n",
       "  'rund',\n",
       "  'wohnhaus',\n",
       "  'wohnbau',\n",
       "  'betrag',\n",
       "  'abteil',\n",
       "  'vergeb',\n",
       "  'wwfsg',\n",
       "  'stadt',\n",
       "  'erricht',\n",
       "  'gesamtbetrag'],\n",
       " ['miet',\n",
       "  'wohnung',\n",
       "  'wohnbaufoerder',\n",
       "  'wohnhaus',\n",
       "  'antraeg',\n",
       "  'foerder',\n",
       "  'wohnbaufoerderungsgesetz',\n",
       "  'hoeh',\n",
       "  'darleh',\n",
       "  'rahm',\n",
       "  'rund',\n",
       "  'prozent',\n",
       "  'stadt',\n",
       "  'schilling',\n",
       "  'abteil',\n",
       "  'wohnhaussanierungsgesetz',\n",
       "  'million',\n",
       "  'mietrechtsgesetz',\n",
       "  'betrag',\n",
       "  'wohnbau'],\n",
       " ['wohnung',\n",
       "  'miet',\n",
       "  'wohnhaus',\n",
       "  'wohnbaufoerder',\n",
       "  'antraeg',\n",
       "  'wohnbaufoerderungsgesetz',\n",
       "  'darleh',\n",
       "  'wohn',\n",
       "  'hoeh',\n",
       "  'wohnungsverbesserungsgesetz',\n",
       "  'zahl',\n",
       "  'wohnungswes',\n",
       "  'kredit',\n",
       "  'foerder',\n",
       "  'stadt',\n",
       "  'gemeinnuetz',\n",
       "  'gewaehr',\n",
       "  'prozent',\n",
       "  'vergeb',\n",
       "  'grund'],\n",
       " ['wohnung',\n",
       "  'zahl',\n",
       "  'neubaut',\n",
       "  'wohnhaus',\n",
       "  'abgang',\n",
       "  'gebaeud',\n",
       "  'miet',\n",
       "  'wohn',\n",
       "  'haus',\n",
       "  'gemeinnuetz',\n",
       "  'privat',\n",
       "  'zugang',\n",
       "  'wohnbaufoerder',\n",
       "  'grund',\n",
       "  'kredit',\n",
       "  'kleingartenwes',\n",
       "  'stadt',\n",
       "  'wohnbaufoerderungsgesetz',\n",
       "  'magistratsabteil',\n",
       "  'verwalt'],\n",
       " ['wohnung',\n",
       "  'zahl',\n",
       "  'haus',\n",
       "  'abgang',\n",
       "  'gebaeud',\n",
       "  'neubaut',\n",
       "  'zugang',\n",
       "  'wohnhaus',\n",
       "  'umbaut',\n",
       "  'miet',\n",
       "  'privat',\n",
       "  'wohn',\n",
       "  'kredit',\n",
       "  'kleingartenwes',\n",
       "  'gemeinnuetz',\n",
       "  'bezeichn',\n",
       "  'wiederaufbaut',\n",
       "  'staedt',\n",
       "  'grund',\n",
       "  'verwalt'],\n",
       " ['wohnung',\n",
       "  'zahl',\n",
       "  'haus',\n",
       "  'abgang',\n",
       "  'gebaeud',\n",
       "  'neubaut',\n",
       "  'wohnhaus',\n",
       "  'zugang',\n",
       "  'bezeichn',\n",
       "  'gebietsaenderungsgesetz',\n",
       "  'verwalt',\n",
       "  'gemeinnuetz',\n",
       "  'grund',\n",
       "  'wohn',\n",
       "  'umbaut',\n",
       "  'wiederaufbaut',\n",
       "  'kredit',\n",
       "  'privat',\n",
       "  'miet',\n",
       "  'kleingartenwes'],\n",
       " ['wohnung',\n",
       "  'haus',\n",
       "  'zahl',\n",
       "  'abgang',\n",
       "  'wohnhaus',\n",
       "  'gebaeud',\n",
       "  'gebietsaenderungsgesetz',\n",
       "  'verwalt',\n",
       "  'miet',\n",
       "  'kredit',\n",
       "  'gemeinnuetz',\n",
       "  'neubaut',\n",
       "  'grund',\n",
       "  'siedlung',\n",
       "  'zugang',\n",
       "  'wohn',\n",
       "  'raum',\n",
       "  'kleingartenwes',\n",
       "  'betrag',\n",
       "  'zuschlaeg'],\n",
       " ['wohnung',\n",
       "  'kredit',\n",
       "  'haus',\n",
       "  'zuschlaeg',\n",
       "  'miet',\n",
       "  'betrag',\n",
       "  'asyl',\n",
       "  'gebaeud',\n",
       "  'zahl',\n",
       "  'grund',\n",
       "  'grundsteu',\n",
       "  'gemeinnuetz',\n",
       "  'steu',\n",
       "  'barack',\n",
       "  'siedlung',\n",
       "  'vermiet',\n",
       "  'buergerspitalfond',\n",
       "  'eingehob',\n",
       "  'verwalt',\n",
       "  'ges'],\n",
       " ['beziffert',\n",
       "  'kredit',\n",
       "  'buergerspitalfond',\n",
       "  'steu',\n",
       "  'betrag',\n",
       "  'einzahl',\n",
       "  'asyl',\n",
       "  'grundsteu',\n",
       "  'gebaeud',\n",
       "  'gebuehr',\n",
       "  'alt',\n",
       "  'eingehob',\n",
       "  'hauszinssteu',\n",
       "  'erwerb',\n",
       "  'grund',\n",
       "  'gelangt',\n",
       "  'ertrag',\n",
       "  'wohnung',\n",
       "  'vermiet',\n",
       "  'rueckstaend'],\n",
       " ['beziffert',\n",
       "  'buergerspitalfond',\n",
       "  'steu',\n",
       "  'einzahl',\n",
       "  'betrag',\n",
       "  'gebuehr',\n",
       "  'kredit',\n",
       "  'asyl',\n",
       "  'eingehob',\n",
       "  'ertrag',\n",
       "  'hauszinssteu',\n",
       "  'grundsteu',\n",
       "  'gebaeud',\n",
       "  'rueckstaend',\n",
       "  'erwerb',\n",
       "  'gelangt',\n",
       "  'einnahm',\n",
       "  'zuschlaeg',\n",
       "  'besoldungssteu',\n",
       "  'alt'],\n",
       " ['beziffert',\n",
       "  'steu',\n",
       "  'buergerspitalfond',\n",
       "  'einzahl',\n",
       "  'asyl',\n",
       "  'gebuehr',\n",
       "  'betrag',\n",
       "  'rueckstaend',\n",
       "  'eingehob',\n",
       "  'ertrag',\n",
       "  'hauszinssteu',\n",
       "  'grundsteu',\n",
       "  'gebaeud',\n",
       "  'zuschlaeg',\n",
       "  'kredit',\n",
       "  'beitrag',\n",
       "  'erwerb',\n",
       "  'gelangt',\n",
       "  'veraeusser',\n",
       "  'einnahm'],\n",
       " ['beziffert',\n",
       "  'steu',\n",
       "  'asyl',\n",
       "  'zuschlaeg',\n",
       "  'buergerspitalfond',\n",
       "  'eingehob',\n",
       "  'gebuehr',\n",
       "  'betrag',\n",
       "  'anmerk',\n",
       "  'ertrag',\n",
       "  'rueckstaend',\n",
       "  'gebaeud',\n",
       "  'beitrag',\n",
       "  'ausmass',\n",
       "  'einzahl',\n",
       "  'hauszinssteu',\n",
       "  'direkt',\n",
       "  'gebaehr',\n",
       "  'gelangt',\n",
       "  'grundsteu'],\n",
       " ['anmerk',\n",
       "  'zuschlaeg',\n",
       "  'steu',\n",
       "  'ordent',\n",
       "  'betrag',\n",
       "  'buergerspitalfond',\n",
       "  'gebuehr',\n",
       "  'beitrag',\n",
       "  'beziffert',\n",
       "  'staat',\n",
       "  'ausmass',\n",
       "  'ertrag',\n",
       "  'kreuz',\n",
       "  'eingehob',\n",
       "  'direkt',\n",
       "  'hauszinssteu',\n",
       "  'gebaeud',\n",
       "  'grundsteu',\n",
       "  'rueckstaend',\n",
       "  'veraeusser']]"
      ]
     },
     "execution_count": 38,
     "metadata": {},
     "output_type": "execute_result"
    }
   ],
   "source": [
    "top_words_housing"
   ]
  },
  {
   "cell_type": "code",
   "execution_count": 39,
   "id": "adfd876b",
   "metadata": {},
   "outputs": [],
   "source": [
    "import csv"
   ]
  },
  {
   "cell_type": "code",
   "execution_count": 40,
   "id": "605c9968",
   "metadata": {},
   "outputs": [],
   "source": [
    "with open(\"topwords.csv\", \"w\", newline=\"\") as csv_file:\n",
    "    writer = csv.writer(csv_file)\n",
    "    writer.writerows(top_words_housing)"
   ]
  },
  {
   "cell_type": "markdown",
   "id": "977c31cd",
   "metadata": {},
   "source": [
    "### Tracking Change"
   ]
  },
  {
   "cell_type": "code",
   "execution_count": 16,
   "id": "07ec3a25",
   "metadata": {},
   "outputs": [],
   "source": [
    "import operator"
   ]
  },
  {
   "cell_type": "code",
   "execution_count": 17,
   "id": "270bd97b",
   "metadata": {},
   "outputs": [],
   "source": [
    "# change here to track prevalance. since there are so many words, the word change probabilities are not super useful... yet.\n",
    "# should chat about this when we meet next\n",
    "def tracking_change_prevalance(topic_model, topic_num, first_time_period=0, second_time_period=4):\n",
    "    \n",
    "    topics_begin = topic_model.print_topics(time=first_time_period)[topic_num]\n",
    "    topics_end = topic_model.print_topics(time=second_time_period)[topic_num]\n",
    "    \n",
    "    word_prevalance_begin = {}\n",
    "    word_prevalance_end = {}\n",
    "    word_change = {}\n",
    "    words_begin, words_end = [], []\n",
    "    all_probs = []\n",
    "    \n",
    "    for num, word_prob in enumerate(topics_begin):\n",
    "        word, prob = word_prob\n",
    "        word_prevalance_begin[word] = prob\n",
    "        words_begin.append(word)\n",
    "        all_probs.append(prob)\n",
    "        \n",
    "    for num, word_prob in enumerate(topics_end):\n",
    "        word, prob = word_prob\n",
    "        word_prevalance_end[word] = prob\n",
    "        words_end.append(word)\n",
    "        all_probs.append(prob)\n",
    "    \n",
    "    min_prob = min(all_probs)\n",
    "    \n",
    "    for word in words_begin:\n",
    "        if word not in word_prevalance_end:\n",
    "            word_prevalance_end[word] = min_prob\n",
    "    \n",
    "    for word in words_end:\n",
    "        if word not in word_prevalance_begin:\n",
    "            word_prevalance_begin[word] = min_prob\n",
    "    \n",
    "    all_words = list(set(words_begin) | set(words_end)) \n",
    "    \n",
    "    for word in all_words:\n",
    "        word_change[word] = word_prevalance_end[word] - word_prevalance_begin[word]\n",
    "\n",
    "    \n",
    "    sorted_word_change = sorted(word_change.items(), key=operator.itemgetter(1))\n",
    "    \n",
    "    sorted_word_change.reverse()\n",
    "    \n",
    "    return sorted_word_change\n",
    "                                                                    "
   ]
  },
  {
   "cell_type": "code",
   "execution_count": 18,
   "id": "032f8d31",
   "metadata": {},
   "outputs": [
    {
     "data": {
      "text/plain": [
       "[('nament', 0.07543477933442991),\n",
       " ('insofern', 0.04853408941145259),\n",
       " ('finanzministerium', 0.028956825481869324),\n",
       " ('fabrik', 0.02725162045945325),\n",
       " ('stadtbahn', 0.01533918464407568),\n",
       " ('parzell', 0.013882961933167879),\n",
       " ('zufall', 0.011442287675104868),\n",
       " ('landesverteid', 0.008189420694458913),\n",
       " ('pflichtig', 0.004044038895387433),\n",
       " ('handhab', 0.003411341872894105),\n",
       " ('baupolizei', 0.002095594614243323),\n",
       " ('unbesetzt', 0.0003567628672135224),\n",
       " ('zuzieh', 0.00017647657333453876),\n",
       " ('laxenburgerstrass', 1.87361675906628e-05),\n",
       " ('revidiert', 0.0),\n",
       " ('behoerd', -0.00022466904693413392),\n",
       " ('verwaltung', -0.00046075076551694433),\n",
       " ('aufzueg', -0.0006074598476189354),\n",
       " ('schlag', -0.0007336769176765831),\n",
       " ('organisationsplan', -0.0014327603185773996),\n",
       " ('technisch', -0.002621501404830767),\n",
       " ('kinos', -0.00277798021199802),\n",
       " ('konzession', -0.0031883172790563062),\n",
       " ('fremdenverkehr', -0.004426247619926534),\n",
       " ('pruefung', -0.00493375945645993),\n",
       " ('bas', -0.00864058049580747),\n",
       " ('baustoff', -0.009681614305064222),\n",
       " ('ges', -0.010523007762784774),\n",
       " ('theat', -0.01327350253744937)]"
      ]
     },
     "execution_count": 18,
     "metadata": {},
     "output_type": "execute_result"
    }
   ],
   "source": [
    "tracking_change_prevalance(ldaseq_fast, 25, 8, 10)"
   ]
  },
  {
   "cell_type": "code",
   "execution_count": 20,
   "id": "fb76eb72",
   "metadata": {},
   "outputs": [
    {
     "data": {
      "text/plain": [
       "[('magistratsabteil', 0.005655560748456205),\n",
       " ('bezirksamt', 0.0047261879986440014),\n",
       " ('zugewies', 0.003342947273282204),\n",
       " ('gewerb', 0.0032787931220061494),\n",
       " ('einzeln', 0.0027822787915269707),\n",
       " ('zahl', 0.0027452633988132207),\n",
       " ('buergermeist', 0.0023523664256931602),\n",
       " ('gegenossenschaft', 0.0018952675646246161),\n",
       " ('agend', 0.0010208463272058021),\n",
       " ('stell', 0.0006726582745729829),\n",
       " ('arbeit', 0.0002879631482826002),\n",
       " ('mitglied', 0.00027903451988277404),\n",
       " ('geschaeftsfuehr', 0.0002642752132194764),\n",
       " ('amtshandl', 0.00019685754364383995),\n",
       " ('amt', 0.00011810492015527051),\n",
       " ('geschaeftsstueck', 0.0),\n",
       " ('einfach', -0.0008464326048429095),\n",
       " ('mittl', -0.0008696314942956722),\n",
       " ('personal', -0.0011800525431957419),\n",
       " ('geschaeft', -0.0013698908453632997),\n",
       " ('leit', -0.0014786534214231185),\n",
       " ('hauptabteil', -0.0017302420572822838),\n",
       " ('grupp', -0.001958940511218768),\n",
       " ('angestellt', -0.002281310271770167),\n",
       " ('geschaeftseinteil', -0.0027820060969025078),\n",
       " ('personalstand', -0.0028064048591627732),\n",
       " ('dienststell', -0.0031236345652072795),\n",
       " ('angeleg', -0.00409823755867353),\n",
       " ('dien', -0.0058096889704654315),\n",
       " ('aufgab', -0.005871707217781893),\n",
       " ('beamt', -0.0077203177500116005),\n",
       " ('verwalt', -0.009346772880882058),\n",
       " ('abteil', -0.011740393002653336)]"
      ]
     },
     "execution_count": 20,
     "metadata": {},
     "output_type": "execute_result"
    }
   ],
   "source": [
    "tracking_change_prevalance(ldaseq_fast, 29, 8, 10)"
   ]
  },
  {
   "cell_type": "code",
   "execution_count": 21,
   "id": "d43fea3a",
   "metadata": {},
   "outputs": [],
   "source": [
    "def tracking_change(topic_model, topic_num, first_time_period=0, second_time_period=4):\n",
    "    \n",
    "    topics_begin = topic_model.print_topics(time=first_time_period)[topic_num]\n",
    "    topics_end = topic_model.print_topics(time=second_time_period)[topic_num]\n",
    "    \n",
    "    word_ranks_begin = {}\n",
    "    word_ranks_end = {}\n",
    "    word_change = {}\n",
    "    words_begin, words_end = [], []\n",
    "    \n",
    "    for num, word_prob in enumerate(topics_begin):\n",
    "        word, prob = word_prob\n",
    "        word_ranks_begin[word] = num\n",
    "        words_begin.append(word)\n",
    "            \n",
    "    for num, word_prob in enumerate(topics_end):\n",
    "        word, prob = word_prob\n",
    "        word_ranks_end[word] = num\n",
    "        words_end.append(word)\n",
    "\n",
    "    for word in words_begin:\n",
    "        if word not in word_ranks_end:\n",
    "            word_ranks_end[word] = 21\n",
    "    \n",
    "    for word in words_end:\n",
    "        if word not in word_ranks_begin:\n",
    "            word_ranks_begin[word] = 21\n",
    "    \n",
    "    all_words = list(set(words_begin) | set(words_end)) \n",
    "    \n",
    "    for word in all_words:\n",
    "        word_change[word] = word_ranks_begin[word] - word_ranks_end[word]\n",
    "\n",
    "    \n",
    "    sorted_word_change = sorted(word_change.items(), key=operator.itemgetter(1))\n",
    "    \n",
    "    sorted_word_change.reverse()\n",
    "    \n",
    "    return sorted_word_change\n",
    "                              "
   ]
  },
  {
   "cell_type": "code",
   "execution_count": 24,
   "id": "3b018858",
   "metadata": {},
   "outputs": [
    {
     "data": {
      "text/plain": [
       "[('magistratsabteil', 21),\n",
       " ('bezirksamt', 20),\n",
       " ('zugewies', 18),\n",
       " ('gewerb', 17),\n",
       " ('einzeln', 14),\n",
       " ('zahl', 13),\n",
       " ('gegenossenschaft', 12),\n",
       " ('buergermeist', 11),\n",
       " ('agend', 10),\n",
       " ('arbeit', 9),\n",
       " ('stell', 7),\n",
       " ('mitglied', 5),\n",
       " ('geschaeftsfuehr', 4),\n",
       " ('amtshandl', 3),\n",
       " ('geschaeftsstueck', 2),\n",
       " ('amt', 2),\n",
       " ('geschaeft', -2),\n",
       " ('einfach', -3),\n",
       " ('mittl', -4),\n",
       " ('personal', -5),\n",
       " ('leit', -6),\n",
       " ('abteil', -6),\n",
       " ('angeleg', -7),\n",
       " ('hauptabteil', -7),\n",
       " ('grupp', -9),\n",
       " ('angestellt', -11),\n",
       " ('geschaeftseinteil', -12),\n",
       " ('personalstand', -13),\n",
       " ('beamt', -13),\n",
       " ('dienststell', -15),\n",
       " ('dien', -17),\n",
       " ('aufgab', -18),\n",
       " ('verwalt', -20)]"
      ]
     },
     "execution_count": 24,
     "metadata": {},
     "output_type": "execute_result"
    }
   ],
   "source": [
    "tracking_change(ldaseq_fast, 29, 8, 10)"
   ]
  },
  {
   "cell_type": "code",
   "execution_count": null,
   "id": "07b20d5b",
   "metadata": {},
   "outputs": [],
   "source": []
  },
  {
   "cell_type": "code",
   "execution_count": null,
   "id": "a995ac92",
   "metadata": {},
   "outputs": [],
   "source": []
  },
  {
   "cell_type": "markdown",
   "id": "33954244",
   "metadata": {},
   "source": [
    "### KL Distances by period\n",
    "\n",
    "Topic changes over time?\n",
    "\n",
    "TODO - save matrix to CSV"
   ]
  },
  {
   "cell_type": "code",
   "execution_count": 11,
   "id": "6760073f",
   "metadata": {},
   "outputs": [],
   "source": [
    "def parse_topic_string(topics, model):\n",
    "    # takes the string returned by model.show_topics()\n",
    "    # split on strings to get topics and the probabilities\n",
    "    # list to store topic bows\n",
    "    topics_bow = []\n",
    "    for topic in topics:\n",
    "        topic_bow = []\n",
    "        for prob_word in topic:\n",
    "            # split probability and word\n",
    "            word, prob = prob_word\n",
    "            # convert to word_type\n",
    "            word = model.id2word.doc2bow([word])[0][0]\n",
    "            topic_bow.append((word, float(prob)))\n",
    "        topics_bow.append(topic_bow)\n",
    "    return topics_bow"
   ]
  },
  {
   "cell_type": "code",
   "execution_count": 12,
   "id": "d66343fc",
   "metadata": {},
   "outputs": [],
   "source": [
    "import numpy as np"
   ]
  },
  {
   "cell_type": "code",
   "execution_count": 13,
   "id": "02488a65",
   "metadata": {},
   "outputs": [],
   "source": [
    "def entropy_changes_time(topics_time):\n",
    "    changes = []\n",
    "    for i in range(0, len(topics_time) - 1):\n",
    "        changes.append(kullback_leibler(topics_time[i], topics_time[i + 1]))\n",
    "    return changes"
   ]
  },
  {
   "cell_type": "code",
   "execution_count": 14,
   "id": "23372825",
   "metadata": {},
   "outputs": [],
   "source": [
    "topics_changes_time = {}\n",
    "for i in range(0, 32):\n",
    "    topics_time = ldaseq_fast.print_topic_times(i, top_terms=len(ldaseq_fast.id2word))\n",
    "    topics_time = parse_topic_string(topics_time, ldaseq_fast)\n",
    "    topics_changes_time[i] = entropy_changes_time(topics_time)"
   ]
  },
  {
   "cell_type": "code",
   "execution_count": 16,
   "id": "7b93f59b",
   "metadata": {},
   "outputs": [
    {
     "data": {
      "image/png": "[encoded data removed]",
      "text/plain": [
       "<Figure size 640x480 with 1 Axes>"
      ]
     },
     "metadata": {},
     "output_type": "display_data"
    }
   ],
   "source": [
    "plt.plot(range(0, 15), topics_changes_time[14], 'o--', color='grey', alpha=0.3)\n",
    "plt.plot(range(0, 15), topics_changes_time[0], 'o--', color='green', alpha=0.3)\n",
    "plt.plot(range(0, 15), topics_changes_time[21], 'o--', color='red', alpha=0.3)\n",
    "plt.plot(range(0, 15), topics_changes_time[5], 'o--', color='blue', alpha=0.3)\n",
    "plt.title(\"Topic Changes over Time\")\n",
    "plt.xlabel(\"Transition in time period\")\n",
    "plt.ylabel(\"KL divergence\")\n",
    "plt.show()"
   ]
  },
  {
   "cell_type": "code",
   "execution_count": 17,
   "id": "f6130f00",
   "metadata": {},
   "outputs": [],
   "source": [
    "import pandas as pd"
   ]
  },
  {
   "cell_type": "code",
   "execution_count": 18,
   "id": "63443624",
   "metadata": {},
   "outputs": [],
   "source": [
    "pd.DataFrame.from_dict(topics_changes_time).T.to_csv(\"new_models/results/ldaseq_rev_fast_32_16periods_CV01_KL_time.csv\")"
   ]
  },
  {
   "cell_type": "markdown",
   "id": "7283bd4c",
   "metadata": {},
   "source": [
    "### Coherence Value for DTM"
   ]
  },
  {
   "cell_type": "code",
   "execution_count": null,
   "id": "deba3e6b",
   "metadata": {},
   "outputs": [],
   "source": [
    "from gensim.models.coherencemodel import CoherenceModel"
   ]
  },
  {
   "cell_type": "code",
   "execution_count": null,
   "id": "425ed9ca",
   "metadata": {},
   "outputs": [],
   "source": [
    "topics_dtm = ldaseq_fast.dtm_coherence(time=2)"
   ]
  },
  {
   "cell_type": "code",
   "execution_count": null,
   "id": "eeed29a2",
   "metadata": {},
   "outputs": [],
   "source": [
    "cm_DTM = CoherenceModel(topics=topics_dtm, corpus=corpus, dictionary=dictionary, coherence='u_mass')"
   ]
  },
  {
   "cell_type": "code",
   "execution_count": null,
   "id": "e9040764",
   "metadata": {},
   "outputs": [],
   "source": [
    "print (\"DTM Python coherence is\", cm_DTM.get_coherence())"
   ]
  }
 ],
 "metadata": {
  "kernelspec": {
   "display_name": "Python 3 (ipykernel)",
   "language": "python",
   "name": "python3"
  },
  "language_info": {
   "codemirror_mode": {
    "name": "ipython",
    "version": 3
   },
   "file_extension": ".py",
   "mimetype": "text/x-python",
   "name": "python",
   "nbconvert_exporter": "python",
   "pygments_lexer": "ipython3",
   "version": "3.9.6"
  }
 },
 "nbformat": 4,
 "nbformat_minor": 5
}
