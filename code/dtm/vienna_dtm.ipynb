{
 "cells": [
  {
   "cell_type": "markdown",
   "metadata": {},
   "source": [
    "### Vienna Fin de secile \n",
    "\n",
    "We will be analysing the texts from our Yearbooks, particularly from 1870-1913. The data is already cleaned and organised, so the purpose of this notebook is to use this cleaned data to create the data structures we need for two kinds of analysis: an evolving dynamic topic model, and creating a word embedding model on the entire data set so that we can capture semantic ideaologies.\n",
    "\n",
    "1870-1881\n",
    "1882-1897\n",
    "1897-1906\n",
    "1907-1913\n",
    "\n",
    "Dynamic Topic Models backwards - where do these topics come from?\n",
    "\n",
    "Move in fighting poverty from decentralised to centralised. \n",
    "\n",
    "#### Imports and Data"
   ]
  },
  {
   "cell_type": "code",
   "execution_count": 1,
   "metadata": {},
   "outputs": [],
   "source": [
    "import numpy as np\n",
    "import spacy\n",
    "import gensim\n",
    "import csv\n",
    "import pandas as pd"
   ]
  },
  {
   "cell_type": "code",
   "execution_count": 2,
   "metadata": {},
   "outputs": [],
   "source": [
    "docs = {}"
   ]
  },
  {
   "cell_type": "code",
   "execution_count": 5,
   "metadata": {},
   "outputs": [],
   "source": [
    "with open('yearbooks_tibble_unstemmed.csv', newline='') as csvfile:\n",
    "    reader = csv.reader(csvfile)\n",
    "    for row in reader:\n",
    "#         print(row)\n",
    "        doc, term, count, year, page, decade, period, red, fineperiods, total, all_ = row\n",
    "        \n",
    "#         year, page, term, count, doc, decade, period, total, all_ = row\n",
    "        if (year, page) not in docs:\n",
    "            docs[(year, page)] = []\n",
    "        if (year, page) in docs:\n",
    "            docs[(year, page)].append(term)   "
   ]
  },
  {
   "cell_type": "code",
   "execution_count": 6,
   "metadata": {},
   "outputs": [],
   "source": [
    "del docs[('year', 'page')]"
   ]
  },
  {
   "cell_type": "code",
   "execution_count": 7,
   "metadata": {},
   "outputs": [
    {
     "data": {
      "text/plain": [
       "['abgabe',\n",
       " 'abgeben',\n",
       " 'abgebenen',\n",
       " 'allgemeinen',\n",
       " 'alter',\n",
       " 'amtshandlung',\n",
       " 'angewiesen',\n",
       " 'anspruch',\n",
       " 'anstalt',\n",
       " 'antrag',\n",
       " 'anweisung',\n",
       " 'armen',\n",
       " 'armenkinderpflege',\n",
       " 'armenpflege',\n",
       " 'aufnahme',\n",
       " 'aufsicht',\n",
       " 'ausbezahlt',\n",
       " 'ausgenommen',\n",
       " 'ausser',\n",
       " 'ausserhalb',\n",
       " 'austritt',\n",
       " 'beamten',\n",
       " 'bedarf',\n",
       " 'bekleidung',\n",
       " 'bereits',\n",
       " 'beschlossen',\n",
       " 'besonders',\n",
       " 'bestehenden',\n",
       " 'bestellten',\n",
       " 'besuchen',\n",
       " 'beteilung',\n",
       " 'betrage',\n",
       " 'bewaehrten',\n",
       " 'bezirke',\n",
       " 'blatter',\n",
       " 'bleibende',\n",
       " 'dienst',\n",
       " 'dritten',\n",
       " 'duerfen',\n",
       " 'eigentliche',\n",
       " 'einteilung',\n",
       " 'eintritt',\n",
       " 'eintritte',\n",
       " 'erfolgt',\n",
       " 'erforderlichen',\n",
       " 'ergibt',\n",
       " 'erhalten',\n",
       " 'errichtung',\n",
       " 'erwerbs',\n",
       " 'eventuellen',\n",
       " 'falle',\n",
       " 'finden',\n",
       " 'fuehrt',\n",
       " 'gattin',\n",
       " 'gebiete',\n",
       " 'gebunden',\n",
       " 'gefuehrt',\n",
       " 'gelegene',\n",
       " 'gemeindebezirke',\n",
       " 'genommen',\n",
       " 'gestatten',\n",
       " 'gestorben',\n",
       " 'gilt',\n",
       " 'gruenden',\n",
       " 'grundsatz',\n",
       " 'gut',\n",
       " 'haenden',\n",
       " 'hauser',\n",
       " 'hauses',\n",
       " 'innerhalb',\n",
       " 'inzwischen',\n",
       " 'jahre',\n",
       " 'jahren',\n",
       " 'kind',\n",
       " 'kinder',\n",
       " 'knaben',\n",
       " 'koennen',\n",
       " 'kontrole',\n",
       " 'lebensjahre',\n",
       " 'lehre',\n",
       " 'leitung',\n",
       " 'letzteren',\n",
       " 'maedchen',\n",
       " 'magistrate',\n",
       " 'margarethen',\n",
       " 'mindestens',\n",
       " 'muessen',\n",
       " 'mutter',\n",
       " 'naechst',\n",
       " 'naechsten',\n",
       " 'neubau',\n",
       " 'noe',\n",
       " 'noetigen',\n",
       " 'nung',\n",
       " 'obsorge',\n",
       " 'pflegekinder',\n",
       " 'pflegen',\n",
       " 'pflegeparteien',\n",
       " 'schule',\n",
       " 'schulpflichtige',\n",
       " 'selbe',\n",
       " 'staedtischen',\n",
       " 'statt',\n",
       " 'tritt',\n",
       " 'umgebung',\n",
       " 'unentgeltlich',\n",
       " 'unterstuetzung',\n",
       " 'vater',\n",
       " 'verfuegt',\n",
       " 'verhandlung',\n",
       " 'verlassen',\n",
       " 'vermoegens',\n",
       " 'verpflegung',\n",
       " 'verschiedene',\n",
       " 'verschiedensten',\n",
       " 'versorgung',\n",
       " 'versorgungsfondes',\n",
       " 'vierten',\n",
       " 'volks',\n",
       " 'volksschule',\n",
       " 'volle',\n",
       " 'vollendeten',\n",
       " 'vorlegen',\n",
       " 'waisen',\n",
       " 'waisenhaus',\n",
       " 'waisenhauser',\n",
       " 'waisenhauses',\n",
       " 'weder',\n",
       " 'wegen',\n",
       " 'wegfall',\n",
       " 'weiteren',\n",
       " 'wiener',\n",
       " 'wohnen',\n",
       " 'zeitpunkte',\n",
       " 'zuge',\n",
       " 'zuwachsen']"
      ]
     },
     "execution_count": 7,
     "metadata": {},
     "output_type": "execute_result"
    }
   ],
   "source": [
    "docs[('1870', '568')]"
   ]
  },
  {
   "cell_type": "markdown",
   "metadata": {},
   "source": [
    "### Dynamic Topic Model"
   ]
  },
  {
   "cell_type": "markdown",
   "metadata": {},
   "source": [
    "\"1870-1883\"\n",
    "\"1884-1896\"\n",
    "\"1897-1905\"\n",
    "\"1906-1909\"\n",
    "\"1910-1913”\n"
   ]
  },
  {
   "cell_type": "code",
   "execution_count": 6,
   "metadata": {},
   "outputs": [],
   "source": [
    "timed_docs = [[], [], [], [], []]"
   ]
  },
  {
   "cell_type": "code",
   "execution_count": 7,
   "metadata": {},
   "outputs": [],
   "source": [
    "for doc in docs:\n",
    "    year, page = doc\n",
    "    if int(year) >= 1870 and int(year) <=1883:\n",
    "        timed_docs[0].append(docs[doc])\n",
    "    if int(year) >= 1884 and int(year) <=1896:\n",
    "        timed_docs[1].append(docs[doc])\n",
    "    if int(year) >= 1897 and int(year) <=1905:\n",
    "        timed_docs[2].append(docs[doc])\n",
    "    if int(year) >= 1906 and int(year) <=1909:\n",
    "        timed_docs[3].append(docs[doc])\n",
    "    if int(year) >= 1910 and int(year) <=1913:\n",
    "        timed_docs[4].append(docs[doc])"
   ]
  },
  {
   "cell_type": "code",
   "execution_count": 8,
   "metadata": {},
   "outputs": [],
   "source": [
    "final_docs = []\n",
    "times = []"
   ]
  },
  {
   "cell_type": "code",
   "execution_count": 9,
   "metadata": {},
   "outputs": [],
   "source": [
    "for period in timed_docs:\n",
    "    times.append(len(period))\n",
    "    for doc in period:\n",
    "        final_docs.append(doc)"
   ]
  },
  {
   "cell_type": "code",
   "execution_count": 10,
   "metadata": {},
   "outputs": [],
   "source": [
    "from gensim.models import LdaSeqModel\n",
    "from gensim.corpora import Dictionary"
   ]
  },
  {
   "cell_type": "code",
   "execution_count": 11,
   "metadata": {},
   "outputs": [],
   "source": [
    "# bigram = gensim.models.Phrases(final_docs)"
   ]
  },
  {
   "cell_type": "code",
   "execution_count": 12,
   "metadata": {},
   "outputs": [],
   "source": [
    "# texts = [bigram[line] for line in final_docs]"
   ]
  },
  {
   "cell_type": "code",
   "execution_count": 13,
   "metadata": {},
   "outputs": [],
   "source": [
    "dictionary = Dictionary(final_docs)\n",
    "corpus = [dictionary.doc2bow(text) for text in final_docs]"
   ]
  },
  {
   "cell_type": "code",
   "execution_count": 14,
   "metadata": {},
   "outputs": [],
   "source": [
    "ldaseq = LdaSeqModel.load(\"ldaseq_5\")"
   ]
  },
  {
   "cell_type": "code",
   "execution_count": 15,
   "metadata": {},
   "outputs": [],
   "source": [
    "# ldaseq = LdaSeqModel(corpus=corpus, id2word=dictionary, time_slice=times, num_topics=5, chunksize=1)"
   ]
  },
  {
   "cell_type": "code",
   "execution_count": 16,
   "metadata": {},
   "outputs": [],
   "source": [
    "# ldaseq.print_topics(time=0)[9]"
   ]
  },
  {
   "cell_type": "code",
   "execution_count": 17,
   "metadata": {},
   "outputs": [],
   "source": [
    "# ldaseq.print_topics(time=3)[9]"
   ]
  },
  {
   "cell_type": "code",
   "execution_count": 18,
   "metadata": {},
   "outputs": [],
   "source": [
    "# proportion of topics over time\n",
    "# lesser topics so that we can see more evolution\n",
    "# csv file of 0th and 3rd\n",
    "# unigrams for next run\n",
    "# allow more changes for each period\n",
    "# backward topic models\n",
    "# korporation comes up in prevelance\n",
    "# functions to see change"
   ]
  },
  {
   "cell_type": "code",
   "execution_count": 19,
   "metadata": {},
   "outputs": [],
   "source": [
    "ldaseq_fast = LdaSeqModel.load(\"ldaseq_fast_5\")"
   ]
  },
  {
   "cell_type": "code",
   "execution_count": 20,
   "metadata": {},
   "outputs": [],
   "source": [
    "# ldaseq_fast = LdaSeqModel(corpus=corpus, id2word=dictionary, time_slice=times, num_topics=5, chunksize=1, chain_variance=0.05)"
   ]
  },
  {
   "cell_type": "code",
   "execution_count": 21,
   "metadata": {},
   "outputs": [],
   "source": [
    "# ldaseq_fast.print_topics(time=0)[8]"
   ]
  },
  {
   "cell_type": "code",
   "execution_count": 22,
   "metadata": {},
   "outputs": [],
   "source": [
    "# ldaseq_fast.print_topics(time=3)[8]"
   ]
  },
  {
   "cell_type": "code",
   "execution_count": 23,
   "metadata": {},
   "outputs": [],
   "source": [
    "# corpus.reverse()"
   ]
  },
  {
   "cell_type": "code",
   "execution_count": 24,
   "metadata": {},
   "outputs": [],
   "source": [
    "# times.reverse()"
   ]
  },
  {
   "cell_type": "code",
   "execution_count": 25,
   "metadata": {},
   "outputs": [],
   "source": [
    "# rev_corpus = list(reversed(corpus))"
   ]
  },
  {
   "cell_type": "code",
   "execution_count": 26,
   "metadata": {},
   "outputs": [],
   "source": [
    "# rev_times = list(reversed(times))"
   ]
  },
  {
   "cell_type": "code",
   "execution_count": 27,
   "metadata": {},
   "outputs": [],
   "source": [
    "ldaseq_rev = LdaSeqModel.load(\"ldaseq_rev_5\")"
   ]
  },
  {
   "cell_type": "code",
   "execution_count": 28,
   "metadata": {},
   "outputs": [],
   "source": [
    "ldaseq_rev_fast = LdaSeqModel.load(\"ldaseq_rev_fast_5\")"
   ]
  },
  {
   "cell_type": "code",
   "execution_count": 29,
   "metadata": {},
   "outputs": [],
   "source": [
    "# ldaseq_rev = LdaSeqModel(corpus=corpus, id2word=dictionary, time_slice=times, num_topics=5, chunksize=1)"
   ]
  },
  {
   "cell_type": "code",
   "execution_count": 30,
   "metadata": {},
   "outputs": [],
   "source": [
    "# ldaseq_rev_fast = LdaSeqModel(corpus=corpus, id2word=dictionary, time_slice=times, num_topics=5, chunksize=1, chain_variance=0.05)"
   ]
  },
  {
   "cell_type": "code",
   "execution_count": 31,
   "metadata": {},
   "outputs": [],
   "source": [
    "# ldaseq_rev.print_topics(time=0)[9]"
   ]
  },
  {
   "cell_type": "code",
   "execution_count": 32,
   "metadata": {},
   "outputs": [],
   "source": [
    "# ldaseq_rev.print_topics(time=3)[9]"
   ]
  },
  {
   "cell_type": "code",
   "execution_count": 33,
   "metadata": {},
   "outputs": [],
   "source": [
    "# ldaseq_rev_fast.print_topics(time=0)[9]"
   ]
  },
  {
   "cell_type": "code",
   "execution_count": 34,
   "metadata": {},
   "outputs": [],
   "source": [
    "# ldaseq_rev_fast.print_topics(time=3)[9]"
   ]
  },
  {
   "cell_type": "code",
   "execution_count": 35,
   "metadata": {},
   "outputs": [],
   "source": [
    "# ldaseq.save(\"ldaseq_5\")"
   ]
  },
  {
   "cell_type": "code",
   "execution_count": 36,
   "metadata": {},
   "outputs": [],
   "source": [
    "# ldaseq_rev.save(\"ldaseq_rev_5\")"
   ]
  },
  {
   "cell_type": "code",
   "execution_count": 37,
   "metadata": {},
   "outputs": [],
   "source": [
    "# ldaseq_fast.save(\"ldaseq_fast_5\")"
   ]
  },
  {
   "cell_type": "code",
   "execution_count": 38,
   "metadata": {},
   "outputs": [],
   "source": [
    "# ldaseq_rev_fast.save(\"ldaseq_rev_fast_5\")"
   ]
  },
  {
   "cell_type": "code",
   "execution_count": 39,
   "metadata": {},
   "outputs": [],
   "source": [
    "import csv"
   ]
  },
  {
   "cell_type": "code",
   "execution_count": 40,
   "metadata": {},
   "outputs": [],
   "source": [
    "ger_to_eng = {}"
   ]
  },
  {
   "cell_type": "code",
   "execution_count": 41,
   "metadata": {},
   "outputs": [],
   "source": [
    "with open('yearbooksGERtoENG.csv') as csvfile:\n",
    "    reader = csv.reader(csvfile)\n",
    "    for row in reader:\n",
    "        ger, eng = row\n",
    "        ger_to_eng[ger] = eng"
   ]
  },
  {
   "cell_type": "code",
   "execution_count": 42,
   "metadata": {},
   "outputs": [],
   "source": [
    "missing_words = []"
   ]
  },
  {
   "cell_type": "code",
   "execution_count": 43,
   "metadata": {},
   "outputs": [],
   "source": [
    "for doc in final_docs:\n",
    "    for word in doc:\n",
    "        if word not in ger_to_eng and word not in missing_words:\n",
    "            missing_words.append(word)"
   ]
  },
  {
   "cell_type": "code",
   "execution_count": 44,
   "metadata": {},
   "outputs": [
    {
     "data": {
      "text/plain": [
       "['stiftnngsinteress',\n",
       " 'werkhans',\n",
       " 'armemves',\n",
       " 'deeemb',\n",
       " 'van',\n",
       " 'crzten',\n",
       " 'verpflegsgebu',\n",
       " 'geba',\n",
       " 'abzufuehr',\n",
       " 'gebu',\n",
       " 'dcbelstaend',\n",
       " 'armcnwes',\n",
       " 'verteilnng',\n",
       " 'vorjaehr',\n",
       " 'armenweseii',\n",
       " 'curerfolg',\n",
       " 'sechswoechent',\n",
       " 'taegig',\n",
       " 'beruecksichtigt',\n",
       " 'capital',\n",
       " 'crzte',\n",
       " 'arinenwes',\n",
       " 'instruction',\n",
       " 'bezirksarmenraet',\n",
       " 'vielmehr',\n",
       " 'aeuss',\n",
       " 'jahrbuch',\n",
       " 'massnahm',\n",
       " 'auslaend',\n",
       " 'entspricht',\n",
       " 'uber',\n",
       " 'erhaltungsbeitraeg',\n",
       " 'reinertraegnis',\n",
       " 'adaptier',\n",
       " 'zahlpflegling',\n",
       " 'armenkinderxfleg',\n",
       " 'sieh',\n",
       " 'san',\n",
       " 'uud',\n",
       " 'armenweseil',\n",
       " 'stadtrat',\n",
       " 'versicherungsbeitraeg',\n",
       " 'bezirksaemt',\n",
       " 'amtsaerzt',\n",
       " 'krankenanstaltenfond',\n",
       " 'abloes',\n",
       " 'waeld',\n",
       " 'solang',\n",
       " 'xlx',\n",
       " 'frequenzfaell',\n",
       " 'kommunalplaetz',\n",
       " 'jahrbuech',\n",
       " 'spitalpfleg',\n",
       " 'dgl',\n",
       " 'cquivalent',\n",
       " 'stadtratsbeschlussesvom',\n",
       " 'krem',\n",
       " 'jsolierpavillon',\n",
       " 'abzuhelf',\n",
       " 'blaett',\n",
       " 'armeiiwes',\n",
       " 'jrrenhausfond',\n",
       " 'desgleich',\n",
       " 'keinerlei',\n",
       " 'maennerasyl',\n",
       " 'heilbaed',\n",
       " 'zahnaerzt',\n",
       " 'valeri',\n",
       " 'kinderhort',\n",
       " 'reichshaupt',\n",
       " 'regiekostenbeitraeg',\n",
       " 'fondseinnahm',\n",
       " 'schuhbrech',\n",
       " 'fondsertraegnis',\n",
       " 'unbetraecht',\n",
       " 'anweist',\n",
       " 'vorwieg',\n",
       " 'adaptiert',\n",
       " 'dergleich',\n",
       " 'wannenbaed',\n",
       " 'fussboed',\n",
       " 'depositum',\n",
       " 'katasterblaett',\n",
       " 'faellung',\n",
       " 'gesamtbetraeg',\n",
       " 'alexius',\n",
       " 'reschofsky',\n",
       " 'gebarungsueberschuess',\n",
       " 'viktor',\n",
       " 'fremdzustaend',\n",
       " 'ausnahmefaell',\n",
       " 'wildsch',\n",
       " 'vermittlungsaemt',\n",
       " 'maennerarbeit',\n",
       " 'kass',\n",
       " 'ungenanntseinwoll',\n",
       " 'gbl',\n",
       " 'hiermit',\n",
       " 'kloest',\n",
       " 'aeusserstenfall',\n",
       " 'krueppelhaft',\n",
       " 'liebfrauenheim',\n",
       " 'versorgnngsheim',\n",
       " 'barzins',\n",
       " 'tafelservic',\n",
       " 'vereinsjahr',\n",
       " 'gro߬',\n",
       " 'arbeitsund',\n",
       " 'bezirksarmenhaeus',\n",
       " 'entsprach',\n",
       " 'geschloff']"
      ]
     },
     "execution_count": 44,
     "metadata": {},
     "output_type": "execute_result"
    }
   ],
   "source": [
    "missing_words"
   ]
  },
  {
   "cell_type": "code",
   "execution_count": 45,
   "metadata": {},
   "outputs": [],
   "source": [
    "def topics_in_english(topic_model, topic_number, time_slice):\n",
    "    words  = topic_model.print_topics(time=time_slice)[topic_number]\n",
    "    eng_words = []\n",
    "    for word in words:\n",
    "        ger_word, proportion = word\n",
    "        try:\n",
    "            eng_words.append((ger_to_eng[ger_word], proportion))\n",
    "        except KeyError:\n",
    "            eng_words.append((ger_word, proportion))            \n",
    "    return eng_words"
   ]
  },
  {
   "cell_type": "code",
   "execution_count": 46,
   "metadata": {},
   "outputs": [
    {
     "data": {
      "text/plain": [
       "12183"
      ]
     },
     "execution_count": 46,
     "metadata": {},
     "output_type": "execute_result"
    }
   ],
   "source": [
    "len(ger_to_eng)"
   ]
  },
  {
   "cell_type": "code",
   "execution_count": 47,
   "metadata": {},
   "outputs": [
    {
     "data": {
      "text/plain": [
       "[('receive', 0.010754727694773336),\n",
       " ('institution', 0.010252086803703927),\n",
       " ('poor', 0.006863057664176687),\n",
       " ('general', 0.006615412582630152),\n",
       " ('display', 0.006508949789234518),\n",
       " ('recorded', 0.006502533112836464),\n",
       " ('housed', 0.006212435318177244),\n",
       " ('located', 0.006165315798980222),\n",
       " ('person', 0.006102322193033307),\n",
       " ('cost', 0.006026094367558108),\n",
       " ('child', 0.005986640891899897),\n",
       " ('certainly', 0.005900034614230641),\n",
       " ('ready', 0.005766180594775818),\n",
       " ('exist', 0.005185621823100179),\n",
       " ('take care', 0.00437759467054447),\n",
       " ('was standing', 0.004161556494547738),\n",
       " ('number', 0.003864280894748425),\n",
       " ('administered', 0.0038159287733107844),\n",
       " ('supply', 0.003753969312885847),\n",
       " ('Every day', 0.003753518481906581)]"
      ]
     },
     "execution_count": 47,
     "metadata": {},
     "output_type": "execute_result"
    }
   ],
   "source": [
    "topics_in_english(ldaseq_fast, 0, 0)"
   ]
  },
  {
   "cell_type": "code",
   "execution_count": 48,
   "metadata": {},
   "outputs": [
    {
     "data": {
      "text/plain": [
       "[('poor man', 0.006711526863857177),\n",
       " ('institution', 0.006630079952225058),\n",
       " ('caring', 0.00631372839380569),\n",
       " ('person', 0.005858497510367664),\n",
       " ('receive', 0.00511497532388471),\n",
       " ('poor care', 0.005097636951179339),\n",
       " ('ready', 0.0047158491102408965),\n",
       " ('housed', 0.004330370013983238),\n",
       " ('cost', 0.004315759189867077),\n",
       " ('poor', 0.004252498257713914),\n",
       " ('recorded', 0.0037901960961634487),\n",
       " ('take care', 0.0037834665937442856),\n",
       " ('supply house', 0.0036913426552337984),\n",
       " ('House', 0.0035989769614703584),\n",
       " ('number', 0.003487434815977912),\n",
       " ('old', 0.003441052294827931),\n",
       " ('display', 0.0034398716549017875),\n",
       " ('approved', 0.003413875613399699),\n",
       " ('care home', 0.0033424101692449745),\n",
       " ('poor supply', 0.0032533042335896496)]"
      ]
     },
     "execution_count": 48,
     "metadata": {},
     "output_type": "execute_result"
    }
   ],
   "source": [
    "topics_in_english(ldaseq_fast, 0, 3)"
   ]
  },
  {
   "cell_type": "code",
   "execution_count": 49,
   "metadata": {},
   "outputs": [],
   "source": [
    "import operator"
   ]
  },
  {
   "cell_type": "code",
   "execution_count": 51,
   "metadata": {},
   "outputs": [],
   "source": [
    "def tracking_change(topic_model, topic_num, first_time_period=0, second_time_period=4):\n",
    "    \n",
    "    topics_begin = topic_model.print_topics(time=first_time_period)[topic_num]\n",
    "    topics_end = topic_model.print_topics(time=second_time_period)[topic_num]\n",
    "    \n",
    "    word_ranks_begin = {}\n",
    "    word_ranks_end = {}\n",
    "    word_change = {}\n",
    "    words_begin, words_end = [], []\n",
    "    \n",
    "    for num, word_prob in enumerate(topics_begin):\n",
    "        word, prob = word_prob\n",
    "        word_ranks_begin[word] = num\n",
    "        words_begin.append(word)\n",
    "            \n",
    "    for num, word_prob in enumerate(topics_end):\n",
    "        word, prob = word_prob\n",
    "        word_ranks_end[word] = num\n",
    "        words_end.append(word)\n",
    "\n",
    "    for word in words_begin:\n",
    "        if word not in word_ranks_end:\n",
    "            word_ranks_end[word] = 21\n",
    "    \n",
    "    for word in words_end:\n",
    "        if word not in word_ranks_begin:\n",
    "            word_ranks_begin[word] = 21\n",
    "    \n",
    "    all_words = list(set(words_begin) | set(words_end)) \n",
    "    \n",
    "    for word in all_words:\n",
    "        word_change[word] = word_ranks_begin[word] - word_ranks_end[word]\n",
    "\n",
    "    \n",
    "    sorted_word_change = sorted(word_change.items(), key=operator.itemgetter(1))\n",
    "    \n",
    "    sorted_word_change.reverse()\n",
    "    \n",
    "    return sorted_word_change\n",
    "                                                                    "
   ]
  },
  {
   "cell_type": "code",
   "execution_count": 52,
   "metadata": {},
   "outputs": [],
   "source": [
    "# change here to track prevalance. since there are so many words, the word change probabilities are not super useful... yet.\n",
    "# should chat about this when we meet next\n",
    "def tracking_change_prevalance(topic_model, topic_num, first_time_period=0, second_time_period=4):\n",
    "    \n",
    "    topics_begin = topic_model.print_topics(time=first_time_period)[topic_num]\n",
    "    topics_end = topic_model.print_topics(time=second_time_period)[topic_num]\n",
    "    \n",
    "    word_prevalance_begin = {}\n",
    "    word_prevalance_end = {}\n",
    "    word_change = {}\n",
    "    words_begin, words_end = [], []\n",
    "    all_probs = []\n",
    "    \n",
    "    for num, word_prob in enumerate(topics_begin):\n",
    "        word, prob = word_prob\n",
    "        word_prevalance_begin[word] = prob\n",
    "        words_begin.append(word)\n",
    "        all_probs.append(prob)\n",
    "        \n",
    "    for num, word_prob in enumerate(topics_end):\n",
    "        word, prob = word_prob\n",
    "        word_prevalance_end[word] = prob\n",
    "        words_end.append(word)\n",
    "        all_probs.append(prob)\n",
    "    \n",
    "    min_prob = min(all_probs)\n",
    "    \n",
    "    for word in words_begin:\n",
    "        if word not in word_prevalance_end:\n",
    "            word_prevalance_end[word] = min_prob\n",
    "    \n",
    "    for word in words_end:\n",
    "        if word not in word_prevalance_begin:\n",
    "            word_prevalance_begin[word] = min_prob\n",
    "    \n",
    "    all_words = list(set(words_begin) | set(words_end)) \n",
    "    \n",
    "    for word in all_words:\n",
    "        word_change[word] = word_prevalance_end[word] - word_prevalance_begin[word]\n",
    "\n",
    "    \n",
    "    sorted_word_change = sorted(word_change.items(), key=operator.itemgetter(1))\n",
    "    \n",
    "    sorted_word_change.reverse()\n",
    "    \n",
    "    return sorted_word_change\n",
    "                                                                    "
   ]
  },
  {
   "cell_type": "code",
   "execution_count": 53,
   "metadata": {},
   "outputs": [
    {
     "data": {
      "text/plain": [
       "[('anstalt', 0.0010942715669252888),\n",
       " ('stand', 0.0008532466888341687),\n",
       " ('zahl', 0.0007826466552624273),\n",
       " ('kind', 0.0007464512714123236),\n",
       " ('person', 0.0006584585372487279),\n",
       " ('kost', 0.0006170281868458352),\n",
       " ('waehrend', 0.0005032420331909215),\n",
       " ('auslag', 0.0004114964408793555),\n",
       " ('waisenhaus', 0.00038352143677943245),\n",
       " ('aufnahm', 0.00028878242780602543),\n",
       " ('aerztlich', 0.00028754264223521033),\n",
       " ('verpflegt', 0.00016800192737887604),\n",
       " ('arm', 0.00016354360571541916),\n",
       " ('knab', 0.00011152335902850016),\n",
       " ('durchschnitt', 7.910953534691345e-05),\n",
       " ('erhalt', 6.288894958691917e-05),\n",
       " ('untergebracht', 0.0),\n",
       " ('unentgelt', -7.973217781807873e-05),\n",
       " ('maedch', -0.00010406391322183208),\n",
       " ('verpfleg', -0.00020914856975816007),\n",
       " ('maennlich', -0.00043461577251965346),\n",
       " ('tag', -0.0005406452414673975)]"
      ]
     },
     "execution_count": 53,
     "metadata": {},
     "output_type": "execute_result"
    }
   ],
   "source": [
    "tracking_change_prevalance(ldaseq_rev, 0)"
   ]
  },
  {
   "cell_type": "code",
   "execution_count": 54,
   "metadata": {},
   "outputs": [
    {
     "data": {
      "text/plain": [
       "[('stand', 5),\n",
       " ('aerztlich', 4),\n",
       " ('person', 4),\n",
       " ('zahl', 4),\n",
       " ('durchschnitt', 2),\n",
       " ('waehrend', 1),\n",
       " ('aufnahm', 1),\n",
       " ('kost', 1),\n",
       " ('erhalt', 0),\n",
       " ('anstalt', 0),\n",
       " ('kind', 0),\n",
       " ('knab', 0),\n",
       " ('waisenhaus', 0),\n",
       " ('maedch', -1),\n",
       " ('auslag', -1),\n",
       " ('arm', -1),\n",
       " ('verpflegt', -1),\n",
       " ('unentgelt', -1),\n",
       " ('untergebracht', -2),\n",
       " ('tag', -2),\n",
       " ('verpfleg', -5),\n",
       " ('maennlich', -8)]"
      ]
     },
     "execution_count": 54,
     "metadata": {},
     "output_type": "execute_result"
    }
   ],
   "source": [
    "tracking_change(ldaseq_rev, 0)"
   ]
  },
  {
   "cell_type": "code",
   "execution_count": 55,
   "metadata": {},
   "outputs": [
    {
     "data": {
      "text/plain": [
       "[('besteh', 17),\n",
       " ('bereit', 15),\n",
       " ('bezueg', 10),\n",
       " ('erfolgt', 9),\n",
       " ('stadt', 7),\n",
       " ('interess', 6),\n",
       " ('betrag', 6),\n",
       " ('person', 5),\n",
       " ('word', 5),\n",
       " ('armenpfleg', 4),\n",
       " ('arm', 3),\n",
       " ('weit', 3),\n",
       " ('armenbezirk', 2),\n",
       " ('zweck', 1),\n",
       " ('allgemein', 1),\n",
       " ('bestimm', 0),\n",
       " ('unterstuetz', -1),\n",
       " ('betreff', -2),\n",
       " ('armenwes', -2),\n",
       " ('gesetz', -3),\n",
       " ('bestimmt', -4),\n",
       " ('stiftung', -5),\n",
       " ('erricht', -5),\n",
       " ('kapital', -6),\n",
       " ('kind', -9),\n",
       " ('zahl', -10),\n",
       " ('folgend', -11),\n",
       " ('vermoeg', -16),\n",
       " ('fond', -20)]"
      ]
     },
     "execution_count": 55,
     "metadata": {},
     "output_type": "execute_result"
    }
   ],
   "source": [
    "tracking_change(ldaseq_rev_fast, 1)"
   ]
  },
  {
   "cell_type": "code",
   "execution_count": 56,
   "metadata": {},
   "outputs": [],
   "source": [
    "def doc_topic_proportions(corpus, model, times, no_topics):\n",
    "    \n",
    "    max_proportions = {}\n",
    "    \n",
    "    for num, doc in enumerate(corpus):\n",
    "        topic_proportions = model[doc]\n",
    "        topics = np.nonzero(topic_proportions > 0.33)\n",
    "        max_proportions[num] = topics[0]\n",
    "        \n",
    "    ranges = [0]\n",
    "    for num in np.cumsum(times):\n",
    "        ranges.append(num)\n",
    "    \n",
    "    time_period_counts = {}\n",
    "    for i in range(0, len(times)):\n",
    "        time_period_counts[i] = np.zeros(no_topics)\n",
    "        \n",
    "    for doc in max_proportions:\n",
    "        if doc < ranges[1] and doc > ranges[0]:\n",
    "            for val in max_proportions[doc]:\n",
    "                time_period_counts[0][val] += 1\n",
    "        if doc < ranges[2] and doc > ranges[1]:\n",
    "            for val in max_proportions[doc]:\n",
    "                time_period_counts[1][val] += 1\n",
    "        if doc < ranges[3] and doc > ranges[2]:\n",
    "            for val in max_proportions[doc]:\n",
    "                time_period_counts[2][val] += 1\n",
    "        if doc < ranges[4] and doc > ranges[3]:\n",
    "            for val in max_proportions[doc]:\n",
    "                time_period_counts[3][val] += 1\n",
    "        if doc < ranges[5] and doc > ranges[4]:\n",
    "            for val in max_proportions[doc]:\n",
    "                time_period_counts[4][val] += 1\n",
    "    \n",
    "    time_period_proportions = {}\n",
    "\n",
    "    for time in time_period_counts:\n",
    "        time_period_proportions[time] = np.round(time_period_counts[time] / np.sum(time_period_counts[time]), 2)\n",
    "\n",
    "    return time_period_proportions"
   ]
  },
  {
   "cell_type": "code",
   "execution_count": 57,
   "metadata": {},
   "outputs": [],
   "source": [
    "time_period_proportions = doc_topic_proportions(corpus, ldaseq_fast, times, 5)"
   ]
  },
  {
   "cell_type": "code",
   "execution_count": 58,
   "metadata": {},
   "outputs": [
    {
     "data": {
      "text/plain": [
       "{0: array([0.15789474, 0.23578947, 0.06736842, 0.07368421, 0.46526316]),\n",
       " 1: array([0.225     , 0.35416667, 0.1625    , 0.15833333, 0.1       ]),\n",
       " 2: array([0.2034384 , 0.33524355, 0.15186246, 0.20630372, 0.10315186]),\n",
       " 3: array([0.26519337, 0.32596685, 0.12707182, 0.15469613, 0.12707182]),\n",
       " 4: array([0.25096525, 0.36679537, 0.17760618, 0.11583012, 0.08880309])}"
      ]
     },
     "execution_count": 58,
     "metadata": {},
     "output_type": "execute_result"
    }
   ],
   "source": [
    "time_period_proportions"
   ]
  },
  {
   "cell_type": "code",
   "execution_count": 60,
   "metadata": {},
   "outputs": [
    {
     "data": {
      "text/plain": [
       "[('person', 0.009592862048061661),\n",
       " ('krank', 0.006899718294721143),\n",
       " ('kost', 0.006558729833661),\n",
       " ('arm', 0.0055836104672836884),\n",
       " ('unentgelt', 0.0053879770089733355),\n",
       " ('zufolg', 0.005326531827128796),\n",
       " ('aerztlich', 0.005313259758325845),\n",
       " ('tag', 0.005205118582778899),\n",
       " ('zahl', 0.00519732106753351),\n",
       " ('erhalt', 0.004838309134514186),\n",
       " ('armenwes', 0.004794930969439805),\n",
       " ('fuersorg', 0.004670779812433583),\n",
       " ('weit', 0.004503958899946665),\n",
       " ('pfleg', 0.004487984946031832),\n",
       " ('betrag', 0.0044679376647961),\n",
       " ('bad', 0.004311841999261475),\n",
       " ('heimatberechtigt', 0.004293355370472746),\n",
       " ('zustaend', 0.004255583641256706),\n",
       " ('stadt', 0.004180054041896383),\n",
       " ('zweck', 0.004118677522181464)]"
      ]
     },
     "execution_count": 60,
     "metadata": {},
     "output_type": "execute_result"
    }
   ],
   "source": [
    "ldaseq_fast.print_topics(time=4)[2]"
   ]
  },
  {
   "cell_type": "code",
   "execution_count": 61,
   "metadata": {},
   "outputs": [
    {
     "data": {
      "text/plain": [
       "[('zufolg', 16),\n",
       " ('tag', 14),\n",
       " ('armenwes', 11),\n",
       " ('fuersorg', 10),\n",
       " ('weit', 9),\n",
       " ('pfleg', 8),\n",
       " ('zustaend', 4),\n",
       " ('krank', 3),\n",
       " ('bad', 3),\n",
       " ('person', 3),\n",
       " ('stadt', 3),\n",
       " ('zahl', 3),\n",
       " ('zweck', 2),\n",
       " ('aerztlich', 1),\n",
       " ('betrag', 0),\n",
       " ('kost', 0),\n",
       " ('erhalt', -1),\n",
       " ('heimatberechtigt', -1),\n",
       " ('anstalt', -2),\n",
       " ('arm', -2),\n",
       " ('unentgelt', -4),\n",
       " ('daselb', -4),\n",
       " ('heilanstalt', -5),\n",
       " ('allgemein', -8),\n",
       " ('spital', -9),\n",
       " ('jaehrlich', -11),\n",
       " ('verpflegt', -12),\n",
       " ('kind', -15),\n",
       " ('auslag', -16)]"
      ]
     },
     "execution_count": 61,
     "metadata": {},
     "output_type": "execute_result"
    }
   ],
   "source": [
    "tracking_change(ldaseq_fast, 2)"
   ]
  },
  {
   "cell_type": "code",
   "execution_count": 63,
   "metadata": {},
   "outputs": [],
   "source": [
    "# change here to include all time periods in a single file\n",
    "def topics_to_csv(model, name_file, times=14):\n",
    "    with open(name_file, 'w', newline='') as csvfile:\n",
    "        spamwriter = csv.writer(csvfile)\n",
    "        for time in range(0, times):\n",
    "            spamwriter.writerow([\"Topic Number for time period \" + str(time) , \"Word, Probability\"])\n",
    "            topics = model.print_topics(time=time, top_terms=30)\n",
    "            for num, topic in enumerate(topics):\n",
    "                topic.insert(0, num)\n",
    "                spamwriter.writerow(topic)\n",
    "                "
   ]
  },
  {
   "cell_type": "code",
   "execution_count": 64,
   "metadata": {},
   "outputs": [],
   "source": [
    "topics_to_csv(ldaseq_fast, \"ldaseq_fast_5topics.csv\")"
   ]
  },
  {
   "cell_type": "code",
   "execution_count": 65,
   "metadata": {},
   "outputs": [],
   "source": [
    "# change here to include time periods of choice: default is between first and last (i.e 0 and 4)\n",
    "def change_to_csv(model, name_file, num_of_topics=7, first_time_period=0, second_time_period=4):\n",
    "    with open(name_file, 'w', newline='') as csvfile:\n",
    "        spamwriter = csv.writer(csvfile)\n",
    "        spamwriter.writerow([\"Topic Number\", \"Word, Change\"])\n",
    "        for i in range(0, num_of_topics):\n",
    "            changes = tracking_change(model, i, first_time_period=first_time_period, second_time_period=second_time_period)\n",
    "            changes.insert(0, i)\n",
    "            spamwriter.writerow(changes)"
   ]
  },
  {
   "cell_type": "code",
   "execution_count": 81,
   "metadata": {},
   "outputs": [],
   "source": [
    "# new format to match what Christof wanted\n",
    "def change_to_csv_advanced(model, name_file, num_of_topics=7, first_time_period=0, second_time_period=4):\n",
    "    with open(name_file, 'w', newline='') as csvfile:\n",
    "        spamwriter = csv.writer(csvfile)\n",
    "        spamwriter.writerow([\"Topic Number\", \"Deutsch\", \"Rank\", \"English\"])\n",
    "        for i in range(0, num_of_topics):\n",
    "            changes = tracking_change(model, i, first_time_period=first_time_period, second_time_period=second_time_period)\n",
    "#             changes.insert(0, i)\n",
    "            for word_rank in changes:\n",
    "                word, rank = word_rank\n",
    "                try:\n",
    "                    spamwriter.writerow([\"Topic \" + str(i), word, rank, ger_to_eng[word]])\n",
    "                except KeyError:\n",
    "                    spamwriter.writerow([\"Topic \" + str(i), word, rank, word])\n",
    "#                 spamwriter.writerow(changes)"
   ]
  },
  {
   "cell_type": "code",
   "execution_count": 82,
   "metadata": {},
   "outputs": [],
   "source": [
    "change_to_csv_advanced(ldaseq_fast, \"ldaseq_fast_changes_5topics_new.csv\", num_of_topics=5)"
   ]
  },
  {
   "cell_type": "code",
   "execution_count": 66,
   "metadata": {},
   "outputs": [],
   "source": [
    "change_to_csv(ldaseq_fast, \"ldaseq_fast_changes_5topics.csv\", num_of_topics=5)"
   ]
  },
  {
   "cell_type": "code",
   "execution_count": null,
   "metadata": {},
   "outputs": [],
   "source": [
    "# tracking change in prevelance from period to period"
   ]
  }
 ],
 "metadata": {
  "kernelspec": {
   "display_name": "Python 3 (ipykernel)",
   "language": "python",
   "name": "python3"
  },
  "language_info": {
   "codemirror_mode": {
    "name": "ipython",
    "version": 3
   },
   "file_extension": ".py",
   "mimetype": "text/x-python",
   "name": "python",
   "nbconvert_exporter": "python",
   "pygments_lexer": "ipython3",
   "version": "3.9.6"
  }
 },
 "nbformat": 4,
 "nbformat_minor": 4
}
