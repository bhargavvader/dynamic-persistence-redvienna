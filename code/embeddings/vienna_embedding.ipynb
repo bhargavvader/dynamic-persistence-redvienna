{
 "cells": [
  {
   "cell_type": "markdown",
   "metadata": {},
   "source": [
    "### Vienna Fin de secile \n",
    "\n",
    "We will be analysing the texts from our Yearbooks, particularly from 1870-1913. The data is already cleaned and organised, so the purpose of this notebook is to use this cleaned data to create the data structures we need for two kinds of analysis: an evolving dynamic topic model, and creating a word embedding model on the entire data set so that we can capture semantic ideaologies.\n",
    "\n",
    "1870-1881\n",
    "1882-1897\n",
    "1897-1906\n",
    "1907-1913\n",
    "\n",
    "Dynamic Topic Models backwards - where do these topics come from?\n",
    "\n",
    "Move in fighting poverty from decentralised to centralised. \n",
    "\n",
    "#### Imports and Data"
   ]
  },
  {
   "cell_type": "code",
   "execution_count": 1,
   "metadata": {},
   "outputs": [],
   "source": [
    "import numpy as np\n",
    "import spacy\n",
    "import gensim\n",
    "import csv\n",
    "import pandas as pd"
   ]
  },
  {
   "cell_type": "code",
   "execution_count": 2,
   "metadata": {},
   "outputs": [],
   "source": [
    "docs = {}"
   ]
  },
  {
   "cell_type": "code",
   "execution_count": 3,
   "metadata": {},
   "outputs": [],
   "source": [
    "with open('yearbooks_tibble_all.csv', newline='') as csvfile:\n",
    "    reader = csv.reader(csvfile)\n",
    "    for row in reader:\n",
    "        try:\n",
    "            year, page, term, count, decade, total = row\n",
    "            if (year, page) not in docs:\n",
    "                docs[(year, page)] = []\n",
    "            if (year, page) in docs:\n",
    "                docs[(year, page)].append(term)\n",
    "        except KeyError:\n",
    "            print(row)"
   ]
  },
  {
   "cell_type": "code",
   "execution_count": 4,
   "metadata": {},
   "outputs": [],
   "source": [
    "del docs[('year', 'page')] "
   ]
  },
  {
   "cell_type": "code",
   "execution_count": 5,
   "metadata": {},
   "outputs": [],
   "source": [
    "idealogy_texts = []"
   ]
  },
  {
   "cell_type": "code",
   "execution_count": 6,
   "metadata": {},
   "outputs": [],
   "source": [
    "idealogy_dict = {}"
   ]
  },
  {
   "cell_type": "code",
   "execution_count": 7,
   "metadata": {},
   "outputs": [],
   "source": [
    "for line in open(\"wohlfahrtsmodelle/Vienna1870to2009_wohlfahrtsmodelle.txt\", encoding = \"utf-8\", errors=\"replace\"):\n",
    "    idealogy, text = line.split(\"=\")\n",
    "    idealogy = idealogy.replace(\".txt\", \"\")\n",
    "    text = text[2:].replace(\", \\n\", \"\")[:-1]\n",
    "    words = []\n",
    "    for word in text.split(\" \"):\n",
    "        words.append(word.replace(\"„\", \"\").replace(\"“\", \"\"))\n",
    "    idealogy_dict[idealogy] = words\n",
    "    idealogy_texts.append(words)"
   ]
  },
  {
   "cell_type": "code",
   "execution_count": 8,
   "metadata": {},
   "outputs": [
    {
     "data": {
      "text/plain": [
       "6"
      ]
     },
     "execution_count": 8,
     "metadata": {},
     "output_type": "execute_result"
    }
   ],
   "source": [
    "len(idealogy_texts)"
   ]
  },
  {
   "cell_type": "code",
   "execution_count": 9,
   "metadata": {},
   "outputs": [
    {
     "data": {
      "text/plain": [
       "['aufgrund',\n",
       " 'struktur',\n",
       " 'elberfeld',\n",
       " 'system',\n",
       " 'kam',\n",
       " 'sicht',\n",
       " 'staat',\n",
       " 'kommun',\n",
       " 'schwachpunkten',\n",
       " 'weiterentwickl',\n",
       " 'strassburg',\n",
       " 'syst',\n",
       " 'ausgebessert',\n",
       " 'ehrenamt',\n",
       " 'mitarbeit',\n",
       " 'ort',\n",
       " 'hilfeleist',\n",
       " 'entschied',\n",
       " 'fiel',\n",
       " 'sicht',\n",
       " 'staedt',\n",
       " 'oftmal',\n",
       " 'hoch',\n",
       " 'gab',\n",
       " 'klar',\n",
       " 'trennung',\n",
       " 'zweckrational',\n",
       " 'programm',\n",
       " 'zentralisiert',\n",
       " 'entscheidungsstell',\n",
       " 'ehrenamt',\n",
       " 'zwangsverpflichtet',\n",
       " 'ausueb',\n",
       " 'fuehrt',\n",
       " 'oft',\n",
       " 'wenig',\n",
       " 'strafmassnahmen',\n",
       " 'hilfsbeduerft',\n",
       " 'gab',\n",
       " 'zud',\n",
       " 'aufgab',\n",
       " 'ausgebildet',\n",
       " '',\n",
       " 'grund',\n",
       " 'elberfeld',\n",
       " 'syst',\n",
       " 'erneuert',\n",
       " 'strassburg',\n",
       " 'syst',\n",
       " 'umgewandelt',\n",
       " 'gab',\n",
       " 'zentralisiert',\n",
       " 'entscheidungsgewalt',\n",
       " 'sog',\n",
       " 'armenamt',\n",
       " 'konkret',\n",
       " 'entschied',\n",
       " 'gab',\n",
       " 'komplett',\n",
       " 'trennung',\n",
       " 'system',\n",
       " 'armenfuersorg',\n",
       " 'verschied',\n",
       " 'konditionalprogamm',\n",
       " 'trennung',\n",
       " 'armenfuersorg',\n",
       " 'erheb',\n",
       " 'buerokrati',\n",
       " 'verbund',\n",
       " 'buerokratisier',\n",
       " 'zentral',\n",
       " 'konkret',\n",
       " 'hilfemassnahm',\n",
       " 'entschied',\n",
       " 'kontakt',\n",
       " 'betroff',\n",
       " '',\n",
       " 'ort',\n",
       " 'vermehrt',\n",
       " 'hauptberuf',\n",
       " 'pflegekraeft',\n",
       " 'statt',\n",
       " 'zwangsverpflichtet',\n",
       " 'ehrenamt',\n",
       " 'eingesetzt',\n",
       " 'erstmal',\n",
       " 'hilfsbeduerft',\n",
       " 'rand',\n",
       " 'paedagogisch',\n",
       " 'betreu',\n",
       " 'eingefuehrt',\n",
       " 'elberfeld',\n",
       " 'syst',\n",
       " 'versucht',\n",
       " 'struktur',\n",
       " 'fuersorg',\n",
       " 'beding',\n",
       " 'anzupass',\n",
       " 'armenverwalt',\n",
       " 'dezentralisiert',\n",
       " 'unterhalb',\n",
       " 'gesamtstaedt',\n",
       " 'armendeputation',\n",
       " 'stadtbezirk',\n",
       " 'deputation',\n",
       " 'eingerichtet',\n",
       " 'auftrag',\n",
       " 'armenpfleg',\n",
       " 'zentral',\n",
       " 'prinzip',\n",
       " 'ehrenamt',\n",
       " 'armenpfleg',\n",
       " 'kam',\n",
       " 'meist',\n",
       " 'mittelschicht',\n",
       " 'klein',\n",
       " 'beamt',\n",
       " 'handwerk',\n",
       " 'kaufleut',\n",
       " 'teilnahm',\n",
       " 'frau',\n",
       " 'eroeffn',\n",
       " 'gesellschaft',\n",
       " 'groess',\n",
       " 'zahl',\n",
       " 'ehrenamt',\n",
       " 'helf',\n",
       " 'verringert',\n",
       " 'einzeln',\n",
       " 'armenpfleg',\n",
       " 'zahl',\n",
       " 'betreu',\n",
       " 'klient',\n",
       " 'syst',\n",
       " 'kost',\n",
       " 'dritt',\n",
       " 'prinzip',\n",
       " 'system',\n",
       " 'hilf',\n",
       " 'selbsthilfe',\n",
       " 'offenbar',\n",
       " 'ging',\n",
       " 'betraecht',\n",
       " 'arm',\n",
       " 'willig',\n",
       " 'situation',\n",
       " 'aend',\n",
       " 'unterstuetzungsleist',\n",
       " 'woch',\n",
       " 'begrenzt',\n",
       " 'leistung',\n",
       " 'erneut',\n",
       " 'bewilligt',\n",
       " 'elberfeld',\n",
       " 'syst',\n",
       " 'muen',\n",
       " 'koeln',\n",
       " 'breslau',\n",
       " 'zahlreich',\n",
       " 'staedt',\n",
       " 'uebernomm',\n",
       " 'liberalismus',\n",
       " 'wurzelnd',\n",
       " 'konzept',\n",
       " 'vorlaeuf',\n",
       " 'jahrhundert',\n",
       " 'besass',\n",
       " 'entstand',\n",
       " 'hamburg',\n",
       " 'hamburg',\n",
       " 'armensyst',\n",
       " 'stadt',\n",
       " 'je',\n",
       " 'ehrenamt',\n",
       " 'armenpfleg',\n",
       " 'eingeteilt',\n",
       " 'drittel',\n",
       " 'jahrhundert',\n",
       " 'nahm',\n",
       " 'phas',\n",
       " 'hochindustrialisier',\n",
       " 'zuwander',\n",
       " 'zahl',\n",
       " 'beduerft',\n",
       " 'vielerort',\n",
       " 'ehrenamt',\n",
       " 'armenfuersorg',\n",
       " 'stiess',\n",
       " 'grenz',\n",
       " 'leistungsfaeh',\n",
       " 'grossstaedt',\n",
       " 'kehrt',\n",
       " 'strassburg',\n",
       " 'syst',\n",
       " 'staerk',\n",
       " 'zentralisier',\n",
       " 'professionalisier',\n",
       " 'armenpfleg',\n",
       " 'zurueck']"
      ]
     },
     "execution_count": 9,
     "metadata": {},
     "output_type": "execute_result"
    }
   ],
   "source": [
    "idealogy_texts[0]"
   ]
  },
  {
   "cell_type": "code",
   "execution_count": 10,
   "metadata": {},
   "outputs": [],
   "source": [
    "import os"
   ]
  },
  {
   "cell_type": "code",
   "execution_count": 11,
   "metadata": {},
   "outputs": [],
   "source": [
    "yearbook_pages = []"
   ]
  },
  {
   "cell_type": "code",
   "execution_count": 12,
   "metadata": {},
   "outputs": [],
   "source": [
    "for doc in docs:\n",
    "    yearbook_pages.append(docs[doc])"
   ]
  },
  {
   "cell_type": "code",
   "execution_count": 13,
   "metadata": {},
   "outputs": [
    {
     "data": {
      "text/plain": [
       "46222"
      ]
     },
     "execution_count": 13,
     "metadata": {},
     "output_type": "execute_result"
    }
   ],
   "source": [
    "len(yearbook_pages)"
   ]
  },
  {
   "cell_type": "code",
   "execution_count": 14,
   "metadata": {},
   "outputs": [
    {
     "data": {
      "text/plain": [
       "['abgeseh',\n",
       " 'abstell',\n",
       " 'allein',\n",
       " 'alljaehr',\n",
       " 'altersklass',\n",
       " 'angelegt',\n",
       " 'ausschliess',\n",
       " 'bedachtnahm',\n",
       " 'beduerfnis',\n",
       " 'belang',\n",
       " 'beurteil',\n",
       " 'bevoelker',\n",
       " 'bezug',\n",
       " 'bietet',\n",
       " 'dadurch',\n",
       " 'einheim',\n",
       " 'einzig',\n",
       " 'einzubernf',\n",
       " 'element',\n",
       " 'enthaelt',\n",
       " 'erford',\n",
       " 'ergaenz',\n",
       " 'ergebnis',\n",
       " 'ergibt',\n",
       " 'erhob',\n",
       " 'ermoeg',\n",
       " 'erschi',\n",
       " 'evidenzhalt',\n",
       " 'fertig',\n",
       " 'frueh',\n",
       " 'fuehrend',\n",
       " 'geburtsdat',\n",
       " 'gelangt',\n",
       " 'gemeindegebiet',\n",
       " 'gemeindematrikel',\n",
       " 'gesetz',\n",
       " 'getroff',\n",
       " 'grund',\n",
       " 'grundlag',\n",
       " 'heimatberechtigt',\n",
       " 'hiesig',\n",
       " 'katast',\n",
       " 'kenntniss',\n",
       " 'kommun',\n",
       " 'kommunal',\n",
       " 'kommunalverwalt',\n",
       " 'kopfzettel',\n",
       " 'kost',\n",
       " 'militaerd',\n",
       " 'militaerpflicht',\n",
       " 'militaerstell',\n",
       " 'nachfolg',\n",
       " 'nament',\n",
       " 'normiert',\n",
       " 'quadriennium',\n",
       " 'quantitativ',\n",
       " 'regel',\n",
       " 'richtigstell',\n",
       " 'schied',\n",
       " 'sechsjaehr',\n",
       " 'sonach',\n",
       " 'staatlich',\n",
       " 'stand',\n",
       " 'stattgefund',\n",
       " 'stellung',\n",
       " 'stellungsperiod',\n",
       " 'stimmt',\n",
       " 'stimmung',\n",
       " 'umfasst',\n",
       " 'verhaeltnis',\n",
       " 'vicljaehr',\n",
       " 'volkszaehl',\n",
       " 'volkszaehlungswurd',\n",
       " 'voraus',\n",
       " 'vorgenomm',\n",
       " 'vorgeuomm',\n",
       " 'vorsorg',\n",
       " 'wichtig',\n",
       " 'wiederkehr',\n",
       " 'zaehlung',\n",
       " 'zahlung',\n",
       " 'zehnjaehr',\n",
       " 'zeitabschnitt',\n",
       " 'zeitdau',\n",
       " 'zeitraum',\n",
       " 'zuwach',\n",
       " 'zwischenzeit']"
      ]
     },
     "execution_count": 14,
     "metadata": {},
     "output_type": "execute_result"
    }
   ],
   "source": [
    "yearbook_pages[10]"
   ]
  },
  {
   "cell_type": "code",
   "execution_count": 15,
   "metadata": {},
   "outputs": [],
   "source": [
    "all_texts = yearbook_pages + idealogy_texts"
   ]
  },
  {
   "cell_type": "markdown",
   "metadata": {},
   "source": [
    "### Embedding Models"
   ]
  },
  {
   "cell_type": "code",
   "execution_count": 16,
   "metadata": {},
   "outputs": [],
   "source": [
    "from gensim.models import Word2Vec\n"
   ]
  },
  {
   "cell_type": "code",
   "execution_count": 17,
   "metadata": {},
   "outputs": [],
   "source": [
    "w2vmodel = Word2Vec(\n",
    "        all_texts,\n",
    "        size=100,\n",
    "        window=10,\n",
    "        workers=10,\n",
    "        iter=10)"
   ]
  },
  {
   "cell_type": "code",
   "execution_count": 18,
   "metadata": {},
   "outputs": [
    {
     "data": {
      "text/plain": [
       "[('sozialhilfeaufwand', 0.9079568386077881),\n",
       " ('sozialhilfekostenersatz', 0.9019289016723633),\n",
       " ('sozialleist', 0.8932145833969116),\n",
       " ('sozialpolit', 0.8912934064865112),\n",
       " ('sozialhilf', 0.8896446228027344),\n",
       " ('sozialhilfekost', 0.8791094422340393),\n",
       " ('sechsjaehr', 0.8790538311004639),\n",
       " ('sozialversicherungstraeg', 0.8776363134384155),\n",
       " ('spezialitaetenordn', 0.8774088621139526),\n",
       " ('sozialrecht', 0.868708074092865)]"
      ]
     },
     "execution_count": 18,
     "metadata": {},
     "output_type": "execute_result"
    }
   ],
   "source": [
    "w2vmodel.wv.most_similar(\"sozial\")"
   ]
  },
  {
   "cell_type": "code",
   "execution_count": 19,
   "metadata": {},
   "outputs": [
    {
     "data": {
      "text/plain": [
       "[('wohnbaufoerderungsgesetz', 0.9446715116500854),\n",
       " ('wohnbauprogramm', 0.9393131732940674),\n",
       " ('wohnbeihilf', 0.9311527013778687),\n",
       " ('wirtschaftsfoerderungsfond', 0.9273989200592041),\n",
       " ('wohnbaut', 0.9208354949951172),\n",
       " ('wohnbautaet', 0.9199985265731812),\n",
       " ('wirtschaftsfoerder', 0.9149885773658752),\n",
       " ('wohnbaufond', 0.9137927293777466),\n",
       " ('wohnein', 0.9106440544128418),\n",
       " ('wohnhauserverwalt', 0.9103437662124634)]"
      ]
     },
     "execution_count": 19,
     "metadata": {},
     "output_type": "execute_result"
    }
   ],
   "source": [
    "w2vmodel.wv.most_similar('wohnbau')"
   ]
  },
  {
   "cell_type": "code",
   "execution_count": 20,
   "metadata": {},
   "outputs": [
    {
     "data": {
      "text/plain": [
       "array([ 2.7541697 ,  1.9614694 ,  4.23982   ,  1.4901075 , -3.1644413 ,\n",
       "        4.7833877 , -1.5488582 ,  3.141982  ,  1.5225735 ,  1.0150449 ,\n",
       "       -4.1619153 ,  6.962016  , -5.2949696 ,  0.60830736, -2.2390318 ,\n",
       "        6.084157  , -6.511232  , -1.2764963 , -3.8904285 , -5.296753  ,\n",
       "       -1.937644  , -0.01175347,  3.233522  ,  3.3840394 ,  0.85746014,\n",
       "        0.14270101,  0.8755808 ,  1.7508137 , -1.2110289 , -0.45810845,\n",
       "       -1.7821071 , -1.5911142 , -0.7442166 ,  0.6179256 ,  0.10888219,\n",
       "       -2.8018167 , -2.700252  , -7.053898  , -1.3320615 , -1.1272995 ,\n",
       "        0.7812195 ,  0.19710822, -4.785872  , -1.0122626 ,  1.8271362 ,\n",
       "        2.6932278 ,  3.6161072 , -0.10068968,  6.648676  , -0.05019537,\n",
       "        3.9008152 ,  2.2302976 ,  0.29842272, -1.2567216 , -2.6813686 ,\n",
       "        1.4964654 , -4.2318406 , -3.3863144 , -1.4141946 , -1.9999284 ,\n",
       "       -2.888723  , -3.0600014 , -1.4857936 , -1.6456214 ,  1.2490102 ,\n",
       "       -3.2758238 , -1.4359999 ,  1.5676622 , -0.36368507,  3.2590752 ,\n",
       "       -5.249658  , -2.7262309 , -3.2463772 ,  1.0308907 , -5.7759233 ,\n",
       "       -0.57017165,  4.043279  ,  4.778804  ,  2.6498222 ,  1.1208435 ,\n",
       "        1.7799034 , -1.833983  ,  0.71591634,  4.3918753 ,  2.207014  ,\n",
       "       -3.833439  ,  2.5291522 ,  1.4702541 ,  1.4469748 , -0.916099  ,\n",
       "       -1.6613679 ,  4.968739  ,  2.5269306 , -3.2106633 ,  2.441011  ,\n",
       "        0.98482203, -0.51768196, -1.7821345 , -1.6939849 ,  1.7519639 ],\n",
       "      dtype=float32)"
      ]
     },
     "execution_count": 20,
     "metadata": {},
     "output_type": "execute_result"
    }
   ],
   "source": [
    "w2vmodel.wv['sozial']"
   ]
  },
  {
   "cell_type": "code",
   "execution_count": 21,
   "metadata": {},
   "outputs": [
    {
     "data": {
      "text/plain": [
       "array([-2.9692256e+00, -1.0177054e+00,  1.4104179e+00,  4.3217015e-01,\n",
       "       -6.5084898e-01, -4.4590235e-01,  1.5773335e+00, -3.1984332e-01,\n",
       "       -2.3526988e+00,  4.3962243e-01, -1.6822826e+00, -1.3222784e+00,\n",
       "        3.5570435e-02, -7.4214363e-01, -1.3321187e+00,  2.1995208e+00,\n",
       "        2.7550006e+00,  6.0181695e-01, -1.0245944e+00, -8.8650399e-01,\n",
       "        7.6776892e-01, -1.0110439e+00, -1.4687117e+00,  1.5433712e+00,\n",
       "        7.2801441e-02,  1.4779131e+00,  1.7076734e+00,  1.9130514e+00,\n",
       "        3.2305410e+00,  1.6179351e+00,  3.9522257e-01, -1.0530418e+00,\n",
       "        8.4029241e-03,  7.5584388e-01, -3.8349527e-01,  2.2126431e+00,\n",
       "       -1.1907308e+00,  7.0182800e-02,  2.8557115e+00, -5.3227109e-01,\n",
       "        1.9187592e+00, -1.4758093e+00,  5.9018552e-01,  3.6075288e-01,\n",
       "        6.5333849e-01,  2.8124304e+00, -3.4956178e-01,  2.6649184e+00,\n",
       "        8.6851400e-01, -2.9243629e+00,  4.0513206e+00, -3.8770845e+00,\n",
       "       -2.6625075e+00,  7.7423477e-01, -3.6364868e-01,  1.9535123e+00,\n",
       "       -3.6557290e-01, -2.5631042e+00, -1.5719323e-01,  2.0848970e+00,\n",
       "        2.8262239e+00, -1.7333393e+00,  3.7478094e+00, -1.4057131e+00,\n",
       "       -2.6260037e+00,  6.4462686e-01, -4.6227252e-01, -1.5216611e-01,\n",
       "       -1.0612452e+00,  1.2586770e+00, -5.0428236e-01,  8.5124081e-01,\n",
       "       -5.6947339e-01, -1.0612717e+00, -1.0547116e+00,  2.0020297e-01,\n",
       "       -7.0532686e-01, -9.1110021e-01, -3.6118209e+00,  7.5385600e-01,\n",
       "        9.5054978e-01,  3.2153794e-01, -1.4252354e+00, -1.8287781e+00,\n",
       "        1.6899010e-02, -5.0196376e-02, -7.6676005e-01,  1.2058598e+00,\n",
       "       -2.6780758e+00, -9.8521668e-01, -1.1984801e+00, -1.4386079e+00,\n",
       "        2.1147871e+00, -9.3933439e-01,  5.6948134e-04, -4.2405704e-01,\n",
       "        1.1180631e+00,  2.3535051e+00, -7.2701210e-01,  1.7252744e+00],\n",
       "      dtype=float32)"
      ]
     },
     "execution_count": 21,
     "metadata": {},
     "output_type": "execute_result"
    }
   ],
   "source": [
    "w2vmodel.wv['wohnbau']"
   ]
  },
  {
   "cell_type": "code",
   "execution_count": 22,
   "metadata": {},
   "outputs": [],
   "source": [
    "# time period vectors \n",
    "# look at dimensionsn and find the words which load the highest for each dimension - identifying latent features\n",
    "# create idealogy vectors "
   ]
  },
  {
   "cell_type": "markdown",
   "metadata": {},
   "source": [
    "### Document Vectors\n",
    "\n",
    "We'll train a Doc2Vec model, as well as aggregate word2vec models."
   ]
  },
  {
   "cell_type": "code",
   "execution_count": 23,
   "metadata": {},
   "outputs": [],
   "source": [
    "from gensim.models.doc2vec import Doc2Vec, TaggedDocument"
   ]
  },
  {
   "cell_type": "code",
   "execution_count": 24,
   "metadata": {},
   "outputs": [],
   "source": [
    "documents = [TaggedDocument(doc, [i]) for i, doc in enumerate(all_texts)]"
   ]
  },
  {
   "cell_type": "code",
   "execution_count": 25,
   "metadata": {},
   "outputs": [],
   "source": [
    "d2vmodel = Doc2Vec(documents, vector_size=50)"
   ]
  },
  {
   "cell_type": "code",
   "execution_count": 26,
   "metadata": {},
   "outputs": [],
   "source": [
    "def create_vector(text, model, model_type=None):\n",
    "    if model_type == \"word2vec\":\n",
    "        vectors = []\n",
    "        for word in text:\n",
    "            try:\n",
    "                vectors.append(model.wv[word])\n",
    "            except KeyError:\n",
    "                pass\n",
    "        if len(vectors) > 0:\n",
    "            return np.mean(vectors, axis=0)\n",
    "    if model_type == \"doc2vec\":\n",
    "        vector = model.infer_vector(text)\n",
    "        return vector"
   ]
  },
  {
   "cell_type": "code",
   "execution_count": 27,
   "metadata": {},
   "outputs": [
    {
     "data": {
      "text/plain": [
       "array([ 0.60984397,  0.3102498 ,  0.30061808, -0.11933362,  0.14091098,\n",
       "        0.2658817 , -0.09792089,  0.45086375,  0.2936876 , -0.1268064 ,\n",
       "       -0.5286196 ,  0.55842155, -0.25828055, -0.03128498, -0.17075422,\n",
       "        0.4117563 , -0.5195685 , -0.21055509, -0.5986947 ,  0.02078001,\n",
       "        0.22744247,  0.2607336 ,  0.12854867,  0.32565174, -0.22542529,\n",
       "       -0.28155667, -0.26714998,  0.13080485, -0.32801363, -0.05511424,\n",
       "       -0.1800677 , -0.56602865, -0.2898797 ,  0.00919187,  0.12374286,\n",
       "       -0.37683553, -0.18000585, -0.62214345, -0.37724367,  0.02094253,\n",
       "       -0.27171314,  0.09106545, -0.8846517 , -0.2086811 , -0.16662468,\n",
       "        0.19722769,  0.7373337 , -0.08068076,  0.01930172,  0.21365705,\n",
       "        0.18045768,  0.45659748,  0.01212208, -0.14716655,  0.08879866,\n",
       "        0.03126504, -0.25849092,  0.13457002, -0.07236651, -0.29604363,\n",
       "       -0.43490127,  0.00672967, -0.49937123,  0.27274844,  0.15726213,\n",
       "       -0.25025797,  0.14369687,  0.4633555 , -0.0460365 ,  0.41662332,\n",
       "       -0.37633288, -0.5143174 , -0.12073443,  0.27975458, -0.6308242 ,\n",
       "        0.1191767 ,  0.19653933,  0.10589805,  0.69943386, -0.4301508 ,\n",
       "       -0.18333752,  0.2166474 , -0.04369446,  0.75735617,  0.5065412 ,\n",
       "       -0.2257358 ,  0.38543326,  0.19041933,  0.6587609 ,  0.13807014,\n",
       "        0.29705817,  0.5134316 ,  0.09606076, -0.06999069,  0.19710477,\n",
       "       -0.07287319, -0.13015784, -0.28247654, -0.08983081, -0.12485394],\n",
       "      dtype=float32)"
      ]
     },
     "execution_count": 27,
     "metadata": {},
     "output_type": "execute_result"
    }
   ],
   "source": [
    "create_vector(idealogy_texts[1], w2vmodel, model_type=\"word2vec\")"
   ]
  },
  {
   "cell_type": "code",
   "execution_count": 28,
   "metadata": {},
   "outputs": [
    {
     "data": {
      "text/plain": [
       "array([ 0.88102657, -1.0677737 , -0.33197784, -0.1846511 , -0.9357193 ,\n",
       "        0.733009  ,  0.50499976,  0.5615809 ,  0.5114796 ,  0.10517613,\n",
       "        0.58616966,  0.03392732, -1.6839303 , -0.28150013, -1.0945325 ,\n",
       "        0.2979313 , -0.5996193 ,  1.1094317 , -0.15940988, -0.21167739,\n",
       "       -0.51022416, -0.37558568,  0.37885174, -0.47734576, -0.46181476,\n",
       "        0.81005794, -0.04486354,  1.1089915 ,  0.1607992 ,  0.5413969 ,\n",
       "        0.5381697 ,  1.5961531 , -0.25911975, -1.1167974 ,  0.03102779,\n",
       "       -0.08173422,  1.2745737 , -0.2449156 , -0.27663675, -0.671108  ,\n",
       "       -0.7747501 ,  0.7033325 , -0.25298268, -0.24638289,  0.08584547,\n",
       "        0.01450887, -0.89695   , -1.0802348 ,  0.10163387,  0.14973009],\n",
       "      dtype=float32)"
      ]
     },
     "execution_count": 28,
     "metadata": {},
     "output_type": "execute_result"
    }
   ],
   "source": [
    "create_vector(idealogy_texts[0], d2vmodel, model_type=\"doc2vec\")"
   ]
  },
  {
   "cell_type": "code",
   "execution_count": 29,
   "metadata": {},
   "outputs": [],
   "source": [
    "year_wise_vectors = {}"
   ]
  },
  {
   "cell_type": "code",
   "execution_count": 30,
   "metadata": {},
   "outputs": [],
   "source": [
    "decade_vectors = {}"
   ]
  },
  {
   "cell_type": "code",
   "execution_count": 31,
   "metadata": {},
   "outputs": [],
   "source": [
    "time_periods_vectors_0 = {0:[], 1:[], 2:[], 3:[], 4:[]}\n",
    "time_periods_vectors_1 = {0:[], 1:[], 2:[], 3:[]}"
   ]
  },
  {
   "cell_type": "code",
   "execution_count": 32,
   "metadata": {},
   "outputs": [],
   "source": [
    "for year_page in docs:\n",
    "    try:\n",
    "        year, page = year_page\n",
    "    except ValueError:\n",
    "        print(year_page)\n",
    "        continue\n",
    "    if year not in year_wise_vectors:\n",
    "        year_wise_vectors[year] = []\n",
    "    if year in year_wise_vectors:\n",
    "        vec = create_vector(docs[year_page], w2vmodel, \"word2vec\")\n",
    "        if vec is not None:\n",
    "            year_wise_vectors[year].append(vec)"
   ]
  },
  {
   "cell_type": "code",
   "execution_count": 33,
   "metadata": {},
   "outputs": [],
   "source": [
    "year_wise_vectors_d = {}"
   ]
  },
  {
   "cell_type": "code",
   "execution_count": 34,
   "metadata": {},
   "outputs": [],
   "source": [
    "decade_vectors_d = {}\n"
   ]
  },
  {
   "cell_type": "code",
   "execution_count": 35,
   "metadata": {},
   "outputs": [],
   "source": [
    "time_periods_vectors_0_d = {0:[], 1:[], 2:[], 3:[], 4:[]}\n",
    "time_periods_vectors_1_d = {0:[], 1:[], 2:[], 3:[]}"
   ]
  },
  {
   "cell_type": "code",
   "execution_count": 36,
   "metadata": {},
   "outputs": [],
   "source": [
    "for year_page in docs:\n",
    "    try:\n",
    "        year, page = year_page\n",
    "    except ValueError:\n",
    "        print(year_page)\n",
    "        continue\n",
    "    if year not in year_wise_vectors_d:\n",
    "        year_wise_vectors_d[year] = []\n",
    "    if year in year_wise_vectors:\n",
    "        vec = create_vector(docs[year_page], d2vmodel, \"doc2vec\")\n",
    "        if vec is not None:\n",
    "            year_wise_vectors_d[year].append(vec)"
   ]
  },
  {
   "cell_type": "code",
   "execution_count": 37,
   "metadata": {},
   "outputs": [],
   "source": [
    "year_wise_final_vectors = {}"
   ]
  },
  {
   "cell_type": "code",
   "execution_count": 38,
   "metadata": {},
   "outputs": [],
   "source": [
    "for year in year_wise_vectors:\n",
    "    year_wise_final_vectors[year] = np.nanmean(year_wise_vectors[year], axis=0)"
   ]
  },
  {
   "cell_type": "code",
   "execution_count": 39,
   "metadata": {},
   "outputs": [],
   "source": [
    "year_wise_final_vectors_d = {}"
   ]
  },
  {
   "cell_type": "code",
   "execution_count": 40,
   "metadata": {},
   "outputs": [],
   "source": [
    "for year in year_wise_vectors_d:\n",
    "    year_wise_final_vectors_d[year] = np.nanmean(year_wise_vectors_d[year], axis=0)"
   ]
  },
  {
   "cell_type": "code",
   "execution_count": 41,
   "metadata": {},
   "outputs": [
    {
     "data": {
      "text/plain": [
       "96"
      ]
     },
     "execution_count": 41,
     "metadata": {},
     "output_type": "execute_result"
    }
   ],
   "source": [
    "len(year_wise_final_vectors)"
   ]
  },
  {
   "cell_type": "code",
   "execution_count": 42,
   "metadata": {},
   "outputs": [],
   "source": [
    "for year in sorted(year_wise_final_vectors.keys()):\n",
    "    \n",
    "    decade = int(int(year) / 10)\n",
    "    if decade not in decade_vectors:\n",
    "        decade_vectors[decade] = []\n",
    "    if decade in decade_vectors:\n",
    "        decade_vectors[decade].append(year_wise_final_vectors[year])\n"
   ]
  },
  {
   "cell_type": "code",
   "execution_count": 43,
   "metadata": {},
   "outputs": [],
   "source": [
    "for decade in decade_vectors:\n",
    "    try:\n",
    "        decade_vectors[decade] = np.mean(decade_vectors[decade], axis=0)\n",
    "    except:\n",
    "        print(decade_vectors[decade], decade)\n",
    "        continue"
   ]
  },
  {
   "cell_type": "code",
   "execution_count": 44,
   "metadata": {},
   "outputs": [],
   "source": [
    "for year in sorted(year_wise_final_vectors_d.keys()):\n",
    "    \n",
    "    decade = int(int(year) / 10)\n",
    "    if decade not in decade_vectors_d:\n",
    "        decade_vectors_d[decade] = []\n",
    "    if decade in decade_vectors_d:\n",
    "        decade_vectors_d[decade].append(year_wise_final_vectors_d[year])"
   ]
  },
  {
   "cell_type": "code",
   "execution_count": 45,
   "metadata": {},
   "outputs": [
    {
     "data": {
      "text/plain": [
       "array([ 9.77762565e-02, -1.04969233e-01, -2.24813856e-02, -3.04030627e-02,\n",
       "       -5.17832488e-02,  1.01131812e-01,  4.37081233e-02,  3.81234102e-02,\n",
       "        8.88020992e-02,  5.12315333e-02,  1.19792864e-01, -1.88552402e-03,\n",
       "       -1.95461228e-01,  1.44290971e-04, -8.13568383e-02,  5.58577776e-02,\n",
       "       -4.47077900e-02,  2.00960964e-01,  1.06668530e-03, -2.83021145e-02,\n",
       "       -7.97394961e-02, -8.47485065e-02,  6.56311363e-02, -1.36743709e-01,\n",
       "       -4.29610796e-02,  1.41743317e-01, -1.73673164e-02,  7.20682591e-02,\n",
       "        1.15159024e-02,  8.14015642e-02,  1.04024276e-01,  2.16394737e-01,\n",
       "       -2.76308618e-02, -1.41888946e-01, -4.13312800e-02,  2.92504057e-02,\n",
       "        1.67096272e-01, -4.07077260e-02, -9.01912302e-02, -6.45153597e-02,\n",
       "       -1.02313012e-01,  6.57380968e-02, -8.41952637e-02, -2.76315212e-02,\n",
       "        5.29842153e-02,  1.73467658e-02, -1.29689515e-01, -1.32852852e-01,\n",
       "       -2.35073585e-02,  1.66469216e-02], dtype=float32)"
      ]
     },
     "execution_count": 45,
     "metadata": {},
     "output_type": "execute_result"
    }
   ],
   "source": [
    "np.mean(decade_vectors_d[194], axis=0)"
   ]
  },
  {
   "cell_type": "code",
   "execution_count": 46,
   "metadata": {},
   "outputs": [],
   "source": [
    "for decade in decade_vectors_d:\n",
    "    try:\n",
    "        decade_vectors_d[decade] = np.mean(decade_vectors_d[decade], axis=0)\n",
    "    except:\n",
    "        print(decade_vectors_d[decade], decade)\n",
    "        continue"
   ]
  },
  {
   "cell_type": "code",
   "execution_count": 47,
   "metadata": {},
   "outputs": [
    {
     "data": {
      "text/plain": [
       "{187: array([ 5.6478761e-02, -6.1672032e-02, -1.1999692e-02, -1.8830854e-02,\n",
       "        -3.3758841e-02,  5.3984948e-02,  2.6028661e-02,  1.6970349e-02,\n",
       "         4.9311936e-02,  3.4594253e-02,  7.8469321e-02, -3.1105732e-03,\n",
       "        -1.0859774e-01, -4.7312994e-03, -5.0575383e-02,  3.3408981e-02,\n",
       "        -3.2358877e-02,  1.1260895e-01,  6.0693286e-03, -7.6347254e-03,\n",
       "        -3.4718111e-02, -5.2744813e-02,  3.8459416e-02, -7.1309008e-02,\n",
       "        -1.5981801e-02,  7.1661025e-02,  1.1941421e-04,  4.4816148e-02,\n",
       "        -7.9461781e-05,  4.7244966e-02,  6.1188214e-02,  1.2101470e-01,\n",
       "        -1.1887344e-02, -7.2089672e-02, -9.3040532e-03,  1.7773587e-02,\n",
       "         9.9282220e-02, -2.9584430e-02, -5.5363595e-02, -3.4203101e-02,\n",
       "        -6.6684179e-02,  4.0627867e-02, -4.1091003e-02, -1.5312516e-02,\n",
       "         2.6267199e-02,  3.4948846e-04, -7.2609186e-02, -7.9487480e-02,\n",
       "        -1.4015496e-02,  1.4097847e-02], dtype=float32),\n",
       " 188: array([ 0.04502421, -0.05388347, -0.00745174, -0.00505245, -0.03455771,\n",
       "         0.04439215,  0.02321418,  0.010753  ,  0.04049212,  0.03666995,\n",
       "         0.06986746,  0.00376425, -0.09168451, -0.00593428, -0.044951  ,\n",
       "         0.03009376, -0.03618904,  0.08672284,  0.00392205, -0.00720293,\n",
       "        -0.02676347, -0.04535889,  0.03095736, -0.04837744, -0.00567156,\n",
       "         0.05854334,  0.00522601,  0.03037279,  0.00268959,  0.0377286 ,\n",
       "         0.04863873,  0.09534018, -0.0054744 , -0.05217264, -0.00505358,\n",
       "         0.01455158,  0.07940052, -0.03730968, -0.04853857, -0.0289692 ,\n",
       "        -0.06070699,  0.03238155, -0.02890621, -0.01157682,  0.02384932,\n",
       "        -0.00460547, -0.06078681, -0.06516589, -0.00853202,  0.01779569],\n",
       "       dtype=float32),\n",
       " 189: array([ 0.04376775, -0.06222411, -0.01533213, -0.02015686, -0.03656809,\n",
       "         0.03512437,  0.02294759,  0.01076727,  0.04670206,  0.04413456,\n",
       "         0.07524955,  0.00908406, -0.10487518, -0.00669353, -0.04458157,\n",
       "         0.02309604, -0.02965786,  0.09641091,  0.0087379 , -0.00718055,\n",
       "        -0.04272048, -0.03475499,  0.02258651, -0.05824769, -0.01541193,\n",
       "         0.07027245, -0.00059345,  0.04282313, -0.00648813,  0.03059955,\n",
       "         0.0502996 ,  0.11102574, -0.00575454, -0.06332134, -0.01352646,\n",
       "         0.00828309,  0.08643772, -0.03684916, -0.0423139 , -0.03586176,\n",
       "        -0.0667374 ,  0.02307178, -0.02935984, -0.00499423,  0.02947807,\n",
       "        -0.00481661, -0.07138342, -0.07779525, -0.00553505,  0.01951247],\n",
       "       dtype=float32),\n",
       " 190: array([ 0.0073084 , -0.02694313, -0.00705395, -0.0132229 , -0.02358297,\n",
       "         0.01483078,  0.0074226 ,  0.00647196,  0.03197124,  0.03313135,\n",
       "         0.04211704,  0.00819304, -0.05698938, -0.00353725, -0.02007473,\n",
       "         0.01816479, -0.01223072,  0.05275656,  0.00490952, -0.00175995,\n",
       "        -0.02577467, -0.02283807,  0.00725392, -0.02039612, -0.00816282,\n",
       "         0.04013287,  0.00291612,  0.00783527, -0.00855123,  0.00955089,\n",
       "         0.0245053 ,  0.05620228,  0.00070739, -0.02119504, -0.00957712,\n",
       "         0.00572499,  0.04869369, -0.02683948, -0.0187974 , -0.01696895,\n",
       "        -0.04310853, -0.00186724, -0.01695233,  0.00580965,  0.01653857,\n",
       "        -0.00757346, -0.04793109, -0.04683862, -0.00246619,  0.0149014 ],\n",
       "       dtype=float32),\n",
       " 191: array([ 0.02325078, -0.03759619, -0.01107207, -0.01608843, -0.02686625,\n",
       "         0.03093251,  0.01374366,  0.0092877 ,  0.04515658,  0.04238051,\n",
       "         0.0604616 ,  0.0092841 , -0.07964452,  0.00065418, -0.03196056,\n",
       "         0.02925256, -0.01603287,  0.08272378,  0.00490272, -0.00823019,\n",
       "        -0.03786415, -0.03520801,  0.01956963, -0.04101508, -0.01108322,\n",
       "         0.06106201, -0.00136591,  0.01415156, -0.01031361,  0.02132239,\n",
       "         0.03815623,  0.08508855, -0.00555626, -0.03948565, -0.01877414,\n",
       "         0.00876147,  0.07227159, -0.03785896, -0.03558747, -0.0267453 ,\n",
       "        -0.05812748,  0.01038959, -0.03102674, -0.00072215,  0.02418449,\n",
       "        -0.00220254, -0.0655834 , -0.06252716, -0.00956446,  0.01838134],\n",
       "       dtype=float32),\n",
       " 192: array([ 0.08104692, -0.08159547, -0.0105524 , -0.01050345, -0.02769053,\n",
       "         0.08434308,  0.04067431,  0.0143794 ,  0.06366659,  0.05510465,\n",
       "         0.10452167,  0.01020848, -0.14305113,  0.0060675 , -0.07064082,\n",
       "         0.05111144, -0.04902659,  0.14864674, -0.0086122 , -0.02268081,\n",
       "        -0.04206709, -0.07626377,  0.04843245, -0.09470595, -0.01391891,\n",
       "         0.10549138, -0.01186152,  0.05341786,  0.00723929,  0.06864296,\n",
       "         0.08736694,  0.15752359, -0.02039008, -0.09693877, -0.03112856,\n",
       "         0.02047906,  0.12611699, -0.06184375, -0.08270844, -0.05088151,\n",
       "        -0.0935576 ,  0.05133306, -0.06958105, -0.02669886,  0.04382537,\n",
       "         0.00749019, -0.09414089, -0.09738749, -0.01579067,  0.02644445],\n",
       "       dtype=float32),\n",
       " 193: array([ 0.04729291, -0.05429148, -0.00721343, -0.01920716, -0.02505355,\n",
       "         0.05964317,  0.02247009,  0.01591399,  0.04641388,  0.03825225,\n",
       "         0.07392472,  0.00776129, -0.10458741,  0.00291662, -0.04917164,\n",
       "         0.03643449, -0.02321966,  0.11992133, -0.01026941, -0.01583931,\n",
       "        -0.04753891, -0.05131522,  0.03416312, -0.0795869 , -0.02178266,\n",
       "         0.08305345, -0.00731474,  0.03819095,  0.00350971,  0.04504843,\n",
       "         0.05994843,  0.1252546 , -0.00886174, -0.08006108, -0.02606956,\n",
       "         0.02162513,  0.0961202 , -0.03157341, -0.05724272, -0.03304681,\n",
       "        -0.06784455,  0.03260231, -0.05145978, -0.01976   ,  0.03235148,\n",
       "         0.01134193, -0.08013956, -0.07808539, -0.01630199,  0.01109184],\n",
       "       dtype=float32),\n",
       " 194: array([ 9.77762565e-02, -1.04969233e-01, -2.24813856e-02, -3.04030627e-02,\n",
       "        -5.17832488e-02,  1.01131812e-01,  4.37081233e-02,  3.81234102e-02,\n",
       "         8.88020992e-02,  5.12315333e-02,  1.19792864e-01, -1.88552402e-03,\n",
       "        -1.95461228e-01,  1.44290971e-04, -8.13568383e-02,  5.58577776e-02,\n",
       "        -4.47077900e-02,  2.00960964e-01,  1.06668530e-03, -2.83021145e-02,\n",
       "        -7.97394961e-02, -8.47485065e-02,  6.56311363e-02, -1.36743709e-01,\n",
       "        -4.29610796e-02,  1.41743317e-01, -1.73673164e-02,  7.20682591e-02,\n",
       "         1.15159024e-02,  8.14015642e-02,  1.04024276e-01,  2.16394737e-01,\n",
       "        -2.76308618e-02, -1.41888946e-01, -4.13312800e-02,  2.92504057e-02,\n",
       "         1.67096272e-01, -4.07077260e-02, -9.01912302e-02, -6.45153597e-02,\n",
       "        -1.02313012e-01,  6.57380968e-02, -8.41952637e-02, -2.76315212e-02,\n",
       "         5.29842153e-02,  1.73467658e-02, -1.29689515e-01, -1.32852852e-01,\n",
       "        -2.35073585e-02,  1.66469216e-02], dtype=float32),\n",
       " 195: array([-0.00055914,  0.02131605,  0.00366576, -0.01071417,  0.00889184,\n",
       "         0.00601633, -0.01438606,  0.00374459,  0.01367078, -0.00866188,\n",
       "         0.00104164,  0.00183694,  0.00171485,  0.00158985,  0.01010528,\n",
       "        -0.00054165,  0.01462244,  0.00787587, -0.0098375 ,  0.00971632,\n",
       "         0.0060904 , -0.00985891, -0.00219465, -0.01355225, -0.00737652,\n",
       "        -0.00792087, -0.00091725, -0.01066629,  0.0040647 ,  0.00410732,\n",
       "         0.006799  , -0.00631409, -0.0031698 , -0.01189425,  0.00231012,\n",
       "         0.00434957,  0.00859039,  0.00675714, -0.01171222,  0.01856923,\n",
       "        -0.00544908, -0.01000875, -0.02237555, -0.00876932, -0.0076035 ,\n",
       "         0.00242389, -0.00852902, -0.01085294, -0.01107766,  0.00758737],\n",
       "       dtype=float32),\n",
       " 196: array([-5.93524054e-03,  2.84057911e-02,  4.32777125e-03, -8.39576870e-03,\n",
       "         1.66178923e-02, -2.33053556e-03, -1.82761140e-02,  4.14976375e-06,\n",
       "         7.36291567e-03, -1.18346233e-02, -1.01748928e-02,  3.80059471e-03,\n",
       "         1.92055963e-02,  2.43091024e-03,  1.81700401e-02, -2.76478683e-03,\n",
       "         1.55214239e-02, -6.70163846e-03, -1.22688804e-02,  1.03840325e-02,\n",
       "         1.25132632e-02, -3.60631640e-03, -6.68537850e-03, -2.38447008e-03,\n",
       "        -3.64241190e-03, -1.87591426e-02, -3.72674991e-03, -1.37053207e-02,\n",
       "         1.95690943e-03,  3.80845799e-04, -1.00386678e-03, -2.43673362e-02,\n",
       "        -2.72743637e-03,  1.07988401e-03,  4.31552064e-03,  4.25196160e-03,\n",
       "        -6.15753746e-03,  8.10375251e-03, -6.10217405e-03,  2.32222453e-02,\n",
       "         2.46450119e-03, -1.57610141e-02, -1.80890262e-02, -8.87604058e-03,\n",
       "        -1.36969835e-02,  4.83947992e-03,  6.69630105e-03,  3.18852137e-03,\n",
       "        -1.01649668e-02,  7.83780776e-03], dtype=float32),\n",
       " 197: array([-0.1635621 ,  0.16110459,  0.04423349,  0.04540531,  0.08075459,\n",
       "        -0.1356497 , -0.08015005, -0.05360185, -0.09121345, -0.03896046,\n",
       "        -0.15376505,  0.02234265,  0.2537214 ,  0.01345967,  0.12503527,\n",
       "        -0.05611822,  0.0745704 , -0.24865246, -0.0285103 ,  0.02779017,\n",
       "         0.08691986,  0.10557385, -0.09089527,  0.1671068 ,  0.05012449,\n",
       "        -0.17554161,  0.00157951, -0.13156185, -0.00563327, -0.1110495 ,\n",
       "        -0.12933533, -0.28519768,  0.05296262,  0.18257582,  0.0265631 ,\n",
       "        -0.03406409, -0.21766421,  0.03974027,  0.10655794,  0.09760898,\n",
       "         0.11922102, -0.12616882,  0.08417812,  0.03414955, -0.06530937,\n",
       "        -0.01276859,  0.14814986,  0.16587852,  0.01831389, -0.00624499],\n",
       "       dtype=float32),\n",
       " 198: array([-0.19601634,  0.19503234,  0.05451316,  0.05907501,  0.10144491,\n",
       "        -0.16956806, -0.09327582, -0.06773217, -0.12207685, -0.06008105,\n",
       "        -0.19512603,  0.01795238,  0.32158926,  0.01578746,  0.15357994,\n",
       "        -0.0787097 ,  0.0895813 , -0.31397033, -0.03171235,  0.03674214,\n",
       "         0.11643429,  0.13295554, -0.11163805,  0.20880842,  0.06276426,\n",
       "        -0.22603762,  0.00159559, -0.15786873, -0.00297456, -0.13589095,\n",
       "        -0.15922977, -0.35979763,  0.0632429 ,  0.22241867,  0.03932968,\n",
       "        -0.04482147, -0.27703488,  0.06179851,  0.13535607,  0.11840226,\n",
       "         0.15847398, -0.1458128 ,  0.10757627,  0.04113965, -0.08235717,\n",
       "        -0.01733588,  0.19562982,  0.2125771 ,  0.02352273, -0.01008431],\n",
       "       dtype=float32),\n",
       " 199: array([-0.19414608,  0.18428631,  0.05891265,  0.06510603,  0.10647752,\n",
       "        -0.16906998, -0.08577424, -0.07041953, -0.13370954, -0.05877087,\n",
       "        -0.1955683 ,  0.01126607,  0.32638818,  0.01396823,  0.152447  ,\n",
       "        -0.07991746,  0.08256112, -0.31837067, -0.02544567,  0.03400943,\n",
       "         0.12373941,  0.13455464, -0.10973545,  0.21008785,  0.06734111,\n",
       "        -0.22911544,  0.00075984, -0.15019913,  0.00622959, -0.13468537,\n",
       "        -0.15657224, -0.35874954,  0.0666701 ,  0.22373024,  0.03835968,\n",
       "        -0.04715592, -0.2806152 ,  0.06636085,  0.13849595,  0.11106378,\n",
       "         0.16840324, -0.13654584,  0.11574209,  0.03787535, -0.08014215,\n",
       "        -0.01885581,  0.19950867,  0.22038622,  0.02790758, -0.01262988],\n",
       "       dtype=float32),\n",
       " 200: array([-5.1027827e-02,  1.6564760e-02,  2.5042361e-02, -2.4602513e-03,\n",
       "         1.5626360e-02, -3.5899747e-02, -1.6332723e-02,  3.5380337e-03,\n",
       "        -4.1498803e-02, -3.0531332e-02, -5.6513429e-02, -3.5104427e-02,\n",
       "         4.9368866e-02, -3.6740727e-03,  3.6580581e-02, -2.9703718e-02,\n",
       "         1.7366882e-02, -5.5654217e-02,  1.5073312e-02,  5.2577705e-04,\n",
       "         2.1089246e-02,  2.5375579e-02, -2.0147968e-02,  2.6113335e-02,\n",
       "        -9.8291202e-04, -4.9997143e-02, -1.9534614e-03, -1.1642264e-02,\n",
       "         3.3964671e-02, -2.4709124e-02, -1.3382035e-02, -4.8256632e-02,\n",
       "         1.6846325e-02,  2.7915845e-02,  1.0646554e-02, -6.9565652e-03,\n",
       "        -5.8380805e-02,  6.8455584e-02,  5.0686967e-02,  1.8843779e-02,\n",
       "         7.4156240e-02, -2.0850677e-02,  4.1165911e-02,  7.7327960e-03,\n",
       "        -8.4606633e-03,  4.6423638e-06,  2.6438847e-02,  4.9726881e-02,\n",
       "         1.7916298e-02, -1.4171841e-02], dtype=float32)}"
      ]
     },
     "execution_count": 47,
     "metadata": {},
     "output_type": "execute_result"
    }
   ],
   "source": [
    "decade_vectors_d"
   ]
  },
  {
   "cell_type": "code",
   "execution_count": 48,
   "metadata": {},
   "outputs": [],
   "source": [
    "time_periods_0 = [1867, 1914, 1946, 1968, 1989]"
   ]
  },
  {
   "cell_type": "code",
   "execution_count": 49,
   "metadata": {},
   "outputs": [],
   "source": [
    "time_periods_1 = [1867, 1920, 1955, 1995]"
   ]
  },
  {
   "cell_type": "code",
   "execution_count": 50,
   "metadata": {},
   "outputs": [],
   "source": [
    "for year in year_wise_final_vectors:\n",
    "    if int(year) >= time_periods_0[0] and int(year) < time_periods_0[1]:\n",
    "        time_periods_vectors_0[0].append(year_wise_final_vectors[year])\n",
    "    if int(year) >= time_periods_0[1] and int(year) < time_periods_0[2]:\n",
    "        time_periods_vectors_0[1].append(year_wise_final_vectors[year])\n",
    "    if int(year) >= time_periods_0[2] and int(year) < time_periods_0[3]:\n",
    "        time_periods_vectors_0[2].append(year_wise_final_vectors[year])\n",
    "    if int(year) >= time_periods_0[3] and int(year) < time_periods_0[4]:\n",
    "        time_periods_vectors_0[3].append(year_wise_final_vectors[year])\n",
    "    if int(year) >= time_periods_0[4]:\n",
    "        time_periods_vectors_0[4].append(year_wise_final_vectors[year])\n",
    "        \n",
    "        \n",
    "    if int(year) >= time_periods_1[0] and int(year) < time_periods_1[1]:\n",
    "        time_periods_vectors_1[0].append(year_wise_final_vectors[year])\n",
    "    if int(year) >= time_periods_1[1] and int(year) < time_periods_1[2]:\n",
    "        time_periods_vectors_1[1].append(year_wise_final_vectors[year])\n",
    "    if int(year) >= time_periods_1[2] and int(year) < time_periods_1[3]:\n",
    "        time_periods_vectors_1[2].append(year_wise_final_vectors[year])\n",
    "    if int(year) >= time_periods_1[3]:\n",
    "        time_periods_vectors_1[3].append(year_wise_final_vectors[year])"
   ]
  },
  {
   "cell_type": "code",
   "execution_count": 51,
   "metadata": {},
   "outputs": [],
   "source": [
    "for year in year_wise_final_vectors_d:\n",
    "    if int(year) >= time_periods_0[0] and int(year) < time_periods_0[1]:\n",
    "        time_periods_vectors_0_d[0].append(year_wise_final_vectors_d[year])\n",
    "    if int(year) >= time_periods_0[1] and int(year) < time_periods_0[2]:\n",
    "        time_periods_vectors_0_d[1].append(year_wise_final_vectors_d[year])\n",
    "    if int(year) >= time_periods_0[2] and int(year) < time_periods_0[3]:\n",
    "        time_periods_vectors_0_d[2].append(year_wise_final_vectors_d[year])\n",
    "    if int(year) >= time_periods_0[3] and int(year) < time_periods_0[4]:\n",
    "        time_periods_vectors_0_d[3].append(year_wise_final_vectors_d[year])\n",
    "    if int(year) >= time_periods_0[4]:\n",
    "        time_periods_vectors_0_d[4].append(year_wise_final_vectors_d[year])\n",
    "        \n",
    "        \n",
    "    if int(year) >= time_periods_1[0] and int(year) < time_periods_1[1]:\n",
    "        time_periods_vectors_1_d[0].append(year_wise_final_vectors_d[year])\n",
    "    if int(year) >= time_periods_1[1] and int(year) < time_periods_1[2]:\n",
    "        time_periods_vectors_1_d[1].append(year_wise_final_vectors_d[year])\n",
    "    if int(year) >= time_periods_1[2] and int(year) < time_periods_1[3]:\n",
    "        time_periods_vectors_1_d[2].append(year_wise_final_vectors_d[year])\n",
    "    if int(year) >= time_periods_1[3]:\n",
    "        time_periods_vectors_1_d[3].append(year_wise_final_vectors_d[year])"
   ]
  },
  {
   "cell_type": "code",
   "execution_count": 52,
   "metadata": {},
   "outputs": [],
   "source": [
    "for period in time_periods_vectors_0:\n",
    "    time_periods_vectors_0[period] = np.mean(time_periods_vectors_0[period], axis=0)"
   ]
  },
  {
   "cell_type": "code",
   "execution_count": 53,
   "metadata": {},
   "outputs": [],
   "source": [
    "for period in time_periods_vectors_1:\n",
    "    time_periods_vectors_1[period] = np.mean(time_periods_vectors_1[period], axis=0)"
   ]
  },
  {
   "cell_type": "code",
   "execution_count": 54,
   "metadata": {},
   "outputs": [],
   "source": [
    "for period in time_periods_vectors_0_d:\n",
    "    time_periods_vectors_0_d[period] = np.mean(time_periods_vectors_0_d[period], axis=0)"
   ]
  },
  {
   "cell_type": "code",
   "execution_count": 55,
   "metadata": {},
   "outputs": [],
   "source": [
    "for period in time_periods_vectors_1_d:\n",
    "    time_periods_vectors_1_d[period] = np.mean(time_periods_vectors_1_d[period], axis=0)"
   ]
  },
  {
   "cell_type": "code",
   "execution_count": 56,
   "metadata": {},
   "outputs": [],
   "source": [
    "idealogy_vectors = {}\n",
    "idealogy_vectors_d = {}"
   ]
  },
  {
   "cell_type": "code",
   "execution_count": 57,
   "metadata": {},
   "outputs": [],
   "source": [
    "for idealogy in idealogy_dict:\n",
    "    idealogy_vectors[idealogy] = create_vector(idealogy_dict[idealogy], w2vmodel, \"word2vec\")\n",
    "    idealogy_vectors_d[idealogy] = create_vector(idealogy_dict[idealogy], d2vmodel, \"doc2vec\")"
   ]
  },
  {
   "cell_type": "markdown",
   "metadata": {},
   "source": [
    "### Analysis"
   ]
  },
  {
   "cell_type": "code",
   "execution_count": 58,
   "metadata": {},
   "outputs": [],
   "source": [
    "import seaborn as sns\n",
    "import matplotlib.pyplot as plt\n",
    "import pandas"
   ]
  },
  {
   "cell_type": "code",
   "execution_count": 59,
   "metadata": {},
   "outputs": [],
   "source": [
    "def unit_vector(vector):\n",
    "    \"\"\" Returns the unit vector of the vector.  \"\"\"\n",
    "    return vector / np.linalg.norm(vector)"
   ]
  },
  {
   "cell_type": "code",
   "execution_count": 60,
   "metadata": {},
   "outputs": [],
   "source": [
    "def angle_between(v1, v2):\n",
    "    \"\"\" Returns the angle in radians between vectors 'v1' and 'v2'::\n",
    "\n",
    "            >>> angle_between((1, 0, 0), (0, 1, 0))\n",
    "            1.5707963267948966\n",
    "            >>> angle_between((1, 0, 0), (1, 0, 0))\n",
    "            0.0\n",
    "            >>> angle_between((1, 0, 0), (-1, 0, 0))\n",
    "            3.141592653589793\n",
    "    \"\"\"\n",
    "    v1_u = unit_vector(v1)\n",
    "    v2_u = unit_vector(v2)\n",
    "    cos = np.clip(np.dot(v1_u, v2_u), -1.0, 1.0)\n",
    "    return np.arccos(cos)*57.2958"
   ]
  },
  {
   "cell_type": "code",
   "execution_count": 61,
   "metadata": {},
   "outputs": [],
   "source": [
    "L = []\n",
    "for period in time_periods_vectors_0:\n",
    "    l = []\n",
    "    for idealogy in idealogy_vectors:\n",
    "        l.append(angle_between(idealogy_vectors[idealogy], time_periods_vectors_0[period]))\n",
    "    L.append(l)"
   ]
  },
  {
   "cell_type": "code",
   "execution_count": 62,
   "metadata": {},
   "outputs": [],
   "source": [
    "M = np.array(L)"
   ]
  },
  {
   "cell_type": "code",
   "execution_count": 63,
   "metadata": {},
   "outputs": [
    {
     "data": {
      "image/png": "[encoded data removed]",
      "text/plain": [
       "<Figure size 432x288 with 2 Axes>"
      ]
     },
     "metadata": {
      "needs_background": "light"
     },
     "output_type": "display_data"
    }
   ],
   "source": [
    "M = np.array(L)\n",
    "fig = plt.figure()\n",
    "div = pandas.DataFrame(M, columns = list(idealogy_vectors.keys()), index = list(time_periods_vectors_0.keys()))\n",
    "ax = sns.heatmap(div)\n",
    "plt.show()"
   ]
  },
  {
   "cell_type": "code",
   "execution_count": 64,
   "metadata": {},
   "outputs": [],
   "source": [
    "L = []\n",
    "for period in time_periods_vectors_1:\n",
    "    l = []\n",
    "    for idealogy in idealogy_vectors:\n",
    "        l.append(angle_between(idealogy_vectors[idealogy], time_periods_vectors_1[period]))\n",
    "    L.append(l)"
   ]
  },
  {
   "cell_type": "code",
   "execution_count": 65,
   "metadata": {},
   "outputs": [
    {
     "data": {
      "image/png": "[encoded data removed]",
      "text/plain": [
       "<Figure size 432x288 with 2 Axes>"
      ]
     },
     "metadata": {
      "needs_background": "light"
     },
     "output_type": "display_data"
    }
   ],
   "source": [
    "M = np.array(L)\n",
    "fig = plt.figure()\n",
    "div = pandas.DataFrame(M, columns = list(idealogy_vectors.keys()), index = list(time_periods_vectors_1.keys()))\n",
    "ax = sns.heatmap(div)\n",
    "plt.show()"
   ]
  },
  {
   "cell_type": "code",
   "execution_count": 66,
   "metadata": {},
   "outputs": [],
   "source": [
    "L = []\n",
    "for decade in decade_vectors:\n",
    "    l = []\n",
    "    for idealogy in idealogy_vectors:\n",
    "        l.append(angle_between(idealogy_vectors[idealogy], decade_vectors[decade]))\n",
    "    L.append(l)"
   ]
  },
  {
   "cell_type": "code",
   "execution_count": 67,
   "metadata": {},
   "outputs": [
    {
     "data": {
      "image/png": "[encoded data removed]",
      "text/plain": [
       "<Figure size 432x288 with 2 Axes>"
      ]
     },
     "metadata": {
      "needs_background": "light"
     },
     "output_type": "display_data"
    }
   ],
   "source": [
    "M = np.array(L)\n",
    "fig = plt.figure()\n",
    "div = pandas.DataFrame(M, columns = list(idealogy_vectors.keys()), index = list(decade_vectors.keys()))\n",
    "ax = sns.heatmap(div)\n",
    "plt.show()"
   ]
  },
  {
   "cell_type": "code",
   "execution_count": 68,
   "metadata": {},
   "outputs": [],
   "source": [
    "L = []\n",
    "for decade in decade_vectors_d:\n",
    "    l = []\n",
    "    for idealogy in idealogy_vectors_d:\n",
    "        l.append(angle_between(idealogy_vectors_d[idealogy], decade_vectors_d[decade]))\n",
    "    L.append(l)"
   ]
  },
  {
   "cell_type": "code",
   "execution_count": 69,
   "metadata": {},
   "outputs": [
    {
     "data": {
      "image/png": "[encoded data removed]",
      "text/plain": [
       "<Figure size 432x288 with 2 Axes>"
      ]
     },
     "metadata": {
      "needs_background": "light"
     },
     "output_type": "display_data"
    }
   ],
   "source": [
    "M = np.array(L)\n",
    "fig = plt.figure()\n",
    "div = pandas.DataFrame(M, columns = list(idealogy_vectors_d.keys()), index = list(decade_vectors_d.keys()))\n",
    "ax = sns.heatmap(div)\n",
    "plt.show()"
   ]
  },
  {
   "cell_type": "markdown",
   "metadata": {},
   "source": [
    "### TODOs\n",
    "\n",
    "check within idealogies \n",
    "check within decades\n",
    "check within time periods\n",
    "functions out of this\n",
    "discourse atoms\n"
   ]
  }
 ],
 "metadata": {
  "kernelspec": {
   "display_name": "Python 3",
   "language": "python",
   "name": "python3"
  },
  "language_info": {
   "codemirror_mode": {
    "name": "ipython",
    "version": 3
   },
   "file_extension": ".py",
   "mimetype": "text/x-python",
   "name": "python",
   "nbconvert_exporter": "python",
   "pygments_lexer": "ipython3",
   "version": "3.9.10"
  }
 },
 "nbformat": 4,
 "nbformat_minor": 4
}
